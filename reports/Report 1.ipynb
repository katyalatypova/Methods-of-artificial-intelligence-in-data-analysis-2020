{
 "cells": [
  {
   "cell_type": "code",
   "execution_count": 88,
   "metadata": {
    "ExecuteTime": {
     "end_time": "2020-11-03T17:02:22.799546Z",
     "start_time": "2020-11-03T17:02:22.790033Z"
    }
   },
   "outputs": [],
   "source": [
    "import pandas as pd\n",
    "import sklearn\n",
    "import catboost as ctb\n",
    "\n",
    "from sklearn import metrics\n",
    "from matplotlib import pyplot as plt"
   ]
  },
  {
   "cell_type": "markdown",
   "metadata": {},
   "source": [
    "# Постановка задачи"
   ]
  },
  {
   "cell_type": "markdown",
   "metadata": {},
   "source": [
    "# Предобработка"
   ]
  },
  {
   "cell_type": "markdown",
   "metadata": {},
   "source": [
    "Предобработка данных заключалась в следующих шагах:\n",
    "\n",
    "* закодированы категориальные признаки\n",
    "* отнормированы численные признаки\n",
    "* удалены выбросы\n",
    "* удалены пары признаков с большой корреляцией\n",
    "\n",
    "Подробно посмотреть предварительный анализ можно $\\href{https://github.com/katyalatypova/Methods-of-artificial-intelligence-in-data-analysis-2020/blob/master/notebooks/Preliminary%20analysis.ipynb}{здесь}$"
   ]
  },
  {
   "cell_type": "markdown",
   "metadata": {},
   "source": [
    "# Исследованные модели"
   ]
  },
  {
   "cell_type": "markdown",
   "metadata": {
    "ExecuteTime": {
     "end_time": "2020-11-03T16:35:11.336931Z",
     "start_time": "2020-11-03T16:35:11.330180Z"
    }
   },
   "source": [
    "На данный момент были опробованы следующие методы:\n",
    "* SVM c различными вариантами ядер - $\\href{https://github.com/katyalatypova/Methods-of-artificial-intelligence-in-data-analysis-2020/blob/master/notebooks/SVM.ipynb}{ноутбук}$\n",
    "* RandomForest - $\\href{https://github.com/katyalatypova/Methods-of-artificial-intelligence-in-data-analysis-2020/blob/master/notebooks/RandomForest.ipynb}{ноутбук}$\n",
    "* GradientBoosting (xgboost, catboost) - $\\href{https://github.com/katyalatypova/Methods-of-artificial-intelligence-in-data-analysis-2020/blob/master/notebooks/Gradient%20Boosting.ipynb}{ноутбук}$\n",
    "\n",
    "\n",
    "Для сравнения моделей между собой в этом ноутбуке были выбраны лучшие модели, полученные в каждом семействе моделей, исследованных в отдельных ноутбуках."
   ]
  },
  {
   "cell_type": "markdown",
   "metadata": {
    "heading_collapsed": true
   },
   "source": [
    "# Загрузка моделей"
   ]
  },
  {
   "cell_type": "code",
   "execution_count": 89,
   "metadata": {
    "ExecuteTime": {
     "end_time": "2020-11-03T17:02:26.281363Z",
     "start_time": "2020-11-03T17:02:26.263518Z"
    },
    "hidden": true
   },
   "outputs": [],
   "source": [
    "from sklearn.model_selection import train_test_split"
   ]
  },
  {
   "cell_type": "code",
   "execution_count": 90,
   "metadata": {
    "ExecuteTime": {
     "end_time": "2020-11-03T17:02:27.538494Z",
     "start_time": "2020-11-03T17:02:27.416844Z"
    },
    "hidden": true
   },
   "outputs": [],
   "source": [
    "data = pd.read_csv('../data/processed/bank-additional-prepared.csv',\n",
    "                   delimiter=';', index_col=0)\n",
    "\n",
    "y = data['y_yes'].copy()\n",
    "X = data.drop('y_yes', axis=1).copy()\n",
    "\n",
    "X_train, X_test, y_train, y_test = train_test_split(X, y, test_size=0.33, \n",
    "                                                    random_state=42, stratify=y)"
   ]
  },
  {
   "cell_type": "code",
   "execution_count": 91,
   "metadata": {
    "ExecuteTime": {
     "end_time": "2020-11-03T17:02:31.109527Z",
     "start_time": "2020-11-03T17:02:28.122969Z"
    },
    "hidden": true
   },
   "outputs": [],
   "source": [
    "from sklearn.svm import SVC\n",
    "\n",
    "svm = SVC(kernel='linear', \n",
    "          class_weight='balanced',\n",
    "          C=0.51,\n",
    "          probability=True)\n",
    "\n",
    "svm.fit(X_train, y_train)\n",
    "y_pred_train_svm = svm.predict(X_train) \n",
    "y_pred_test_svm = svm.predict(X_test)"
   ]
  },
  {
   "cell_type": "code",
   "execution_count": 95,
   "metadata": {
    "ExecuteTime": {
     "end_time": "2020-11-03T17:02:57.103165Z",
     "start_time": "2020-11-03T17:02:57.011037Z"
    },
    "hidden": true
   },
   "outputs": [],
   "source": [
    "from sklearn.ensemble import RandomForestClassifier\n",
    "\n",
    "clf = RandomForestClassifier(**{'max_depth': 21, 'min_samples_leaf': 1, 'n_estimators': 11})\n",
    "\n",
    "clf.fit(X_train, y_train)\n",
    "y_pred_train_clf = clf.predict(X_train) \n",
    "y_pred_test_clf = clf.predict(X_test)"
   ]
  },
  {
   "cell_type": "code",
   "execution_count": 96,
   "metadata": {
    "ExecuteTime": {
     "end_time": "2020-11-03T17:02:57.804967Z",
     "start_time": "2020-11-03T17:02:57.548581Z"
    },
    "hidden": true
   },
   "outputs": [],
   "source": [
    "ctb_classifier = ctb.CatBoostClassifier(eval_metric='F1',\n",
    "                                        loss_function='Logloss',\n",
    "                                        auto_class_weights='SqrtBalanced',\n",
    "                                        depth=4,\n",
    "                                        iterations=150,\n",
    "                                        learning_rate=0.04,\n",
    "                                        l2_leaf_reg=5.0,\n",
    "                                        logging_level='Silent')\n",
    "\n",
    "ctb_classifier.fit(X_train, y_train)\n",
    "y_pred_train_ctb = ctb_classifier.predict(X_train) \n",
    "y_pred_test_ctb = ctb_classifier.predict(X_test)"
   ]
  },
  {
   "cell_type": "markdown",
   "metadata": {},
   "source": [
    "# Результаты экспериментов"
   ]
  },
  {
   "cell_type": "code",
   "execution_count": 97,
   "metadata": {
    "ExecuteTime": {
     "end_time": "2020-11-03T17:02:58.432929Z",
     "start_time": "2020-11-03T17:02:58.410738Z"
    }
   },
   "outputs": [],
   "source": [
    "metrics_to_eval = {'Accuracy': lambda y_true, y_pred: metrics.accuracy_score(y_true, y_pred),\n",
    "           'Balanced Accuracy': lambda y_true, y_pred: metrics.balanced_accuracy_score(y_true, y_pred), \n",
    "           'Precision-0':  lambda y_true, y_pred: metrics.precision_score(y_true, y_pred, pos_label=0),\n",
    "           'Precision-1':  lambda y_true, y_pred: metrics.precision_score(y_true, y_pred, pos_label=1), \n",
    "           'Recall-0':  lambda y_true, y_pred: metrics.recall_score(y_true, y_pred, pos_label=0), \n",
    "           'Recall-1':  lambda y_true, y_pred: metrics.recall_score(y_true, y_pred, pos_label=1),\n",
    "           'F1-score-0':  lambda y_true, y_pred: metrics.f1_score(y_true, y_pred, pos_label=0), \n",
    "           'F1-score-1':  lambda y_true, y_pred: metrics.f1_score(y_true, y_pred, pos_label=1), \n",
    "           'F1-macro':  lambda y_true, y_pred: metrics.f1_score(y_true, y_pred, average='macro')}\n",
    "\n",
    "methods={'SVM': [(y_train, y_pred_train_svm), (y_test, y_pred_test_svm)],\n",
    "         'GradientBoosting': [(y_train, y_pred_train_ctb), (y_test, y_pred_test_ctb)],\n",
    "         'RandomForest': [(y_train, y_pred_train_clf), (y_test, y_pred_test_clf)]}"
   ]
  },
  {
   "cell_type": "markdown",
   "metadata": {},
   "source": [
    "## Сравним модели на train"
   ]
  },
  {
   "cell_type": "code",
   "execution_count": 98,
   "metadata": {
    "ExecuteTime": {
     "end_time": "2020-11-03T17:02:59.378120Z",
     "start_time": "2020-11-03T17:02:59.358361Z"
    }
   },
   "outputs": [],
   "source": [
    "metrics_train = pd.DataFrame(columns=['SVM', 'RandomForest', 'GradientBoosting'],\n",
    "                       index=['Accuracy', \n",
    "                              'Balanced Accuracy', \n",
    "                              'AUC', \n",
    "                              'Precision-0', 'Precision-1', \n",
    "                              'Recall-0', 'Recall-1',\n",
    "                              'F1-score-0', 'F1-score-1', 'F1-macro'])"
   ]
  },
  {
   "cell_type": "code",
   "execution_count": 99,
   "metadata": {
    "ExecuteTime": {
     "end_time": "2020-11-03T17:02:59.827842Z",
     "start_time": "2020-11-03T17:02:59.732091Z"
    }
   },
   "outputs": [],
   "source": [
    "for metric, metric_func in metrics_to_eval.items():\n",
    "    for method, predictions in methods.items():\n",
    "        metrics_train.loc[metric, method] = metric_func(*predictions[0]).round(2)"
   ]
  },
  {
   "cell_type": "code",
   "execution_count": 100,
   "metadata": {
    "ExecuteTime": {
     "end_time": "2020-11-03T17:03:00.063245Z",
     "start_time": "2020-11-03T17:03:00.049840Z"
    }
   },
   "outputs": [
    {
     "data": {
      "text/html": [
       "<div>\n",
       "<style scoped>\n",
       "    .dataframe tbody tr th:only-of-type {\n",
       "        vertical-align: middle;\n",
       "    }\n",
       "\n",
       "    .dataframe tbody tr th {\n",
       "        vertical-align: top;\n",
       "    }\n",
       "\n",
       "    .dataframe thead th {\n",
       "        text-align: right;\n",
       "    }\n",
       "</style>\n",
       "<table border=\"1\" class=\"dataframe\">\n",
       "  <thead>\n",
       "    <tr style=\"text-align: right;\">\n",
       "      <th></th>\n",
       "      <th>SVM</th>\n",
       "      <th>RandomForest</th>\n",
       "      <th>GradientBoosting</th>\n",
       "    </tr>\n",
       "  </thead>\n",
       "  <tbody>\n",
       "    <tr>\n",
       "      <th>Accuracy</th>\n",
       "      <td>0.84</td>\n",
       "      <td>0.98</td>\n",
       "      <td>0.89</td>\n",
       "    </tr>\n",
       "    <tr>\n",
       "      <th>Balanced Accuracy</th>\n",
       "      <td>0.75</td>\n",
       "      <td>0.93</td>\n",
       "      <td>0.74</td>\n",
       "    </tr>\n",
       "    <tr>\n",
       "      <th>AUC</th>\n",
       "      <td>NaN</td>\n",
       "      <td>NaN</td>\n",
       "      <td>NaN</td>\n",
       "    </tr>\n",
       "    <tr>\n",
       "      <th>Precision-0</th>\n",
       "      <td>0.95</td>\n",
       "      <td>0.98</td>\n",
       "      <td>0.94</td>\n",
       "    </tr>\n",
       "    <tr>\n",
       "      <th>Precision-1</th>\n",
       "      <td>0.37</td>\n",
       "      <td>0.99</td>\n",
       "      <td>0.52</td>\n",
       "    </tr>\n",
       "    <tr>\n",
       "      <th>Recall-0</th>\n",
       "      <td>0.86</td>\n",
       "      <td>1</td>\n",
       "      <td>0.94</td>\n",
       "    </tr>\n",
       "    <tr>\n",
       "      <th>Recall-1</th>\n",
       "      <td>0.64</td>\n",
       "      <td>0.86</td>\n",
       "      <td>0.55</td>\n",
       "    </tr>\n",
       "    <tr>\n",
       "      <th>F1-score-0</th>\n",
       "      <td>0.91</td>\n",
       "      <td>0.99</td>\n",
       "      <td>0.94</td>\n",
       "    </tr>\n",
       "    <tr>\n",
       "      <th>F1-score-1</th>\n",
       "      <td>0.47</td>\n",
       "      <td>0.92</td>\n",
       "      <td>0.53</td>\n",
       "    </tr>\n",
       "    <tr>\n",
       "      <th>F1-macro</th>\n",
       "      <td>0.69</td>\n",
       "      <td>0.96</td>\n",
       "      <td>0.74</td>\n",
       "    </tr>\n",
       "  </tbody>\n",
       "</table>\n",
       "</div>"
      ],
      "text/plain": [
       "                    SVM RandomForest GradientBoosting\n",
       "Accuracy           0.84         0.98             0.89\n",
       "Balanced Accuracy  0.75         0.93             0.74\n",
       "AUC                 NaN          NaN              NaN\n",
       "Precision-0        0.95         0.98             0.94\n",
       "Precision-1        0.37         0.99             0.52\n",
       "Recall-0           0.86            1             0.94\n",
       "Recall-1           0.64         0.86             0.55\n",
       "F1-score-0         0.91         0.99             0.94\n",
       "F1-score-1         0.47         0.92             0.53\n",
       "F1-macro           0.69         0.96             0.74"
      ]
     },
     "execution_count": 100,
     "metadata": {},
     "output_type": "execute_result"
    }
   ],
   "source": [
    "metrics_train.head(len(metrics_to_eval) + 1)"
   ]
  },
  {
   "cell_type": "markdown",
   "metadata": {},
   "source": [
    "## Сравним модели на test"
   ]
  },
  {
   "cell_type": "code",
   "execution_count": 101,
   "metadata": {
    "ExecuteTime": {
     "end_time": "2020-11-03T17:03:01.635135Z",
     "start_time": "2020-11-03T17:03:01.619700Z"
    }
   },
   "outputs": [],
   "source": [
    "metrics_test = pd.DataFrame(columns=['SVM', 'RandomForest', 'GradientBoosting'],\n",
    "                       index=['Accuracy', \n",
    "                              'Balanced Accuracy', \n",
    "                              'AUC', \n",
    "                              'Precision-0', 'Precision-1', \n",
    "                              'Recall-0', 'Recall-1',\n",
    "                              'F1-score-0', 'F1-score-1', 'F1-macro'])"
   ]
  },
  {
   "cell_type": "code",
   "execution_count": 102,
   "metadata": {
    "ExecuteTime": {
     "end_time": "2020-11-03T17:03:03.060777Z",
     "start_time": "2020-11-03T17:03:02.904434Z"
    }
   },
   "outputs": [],
   "source": [
    "for metric, metric_func in metrics_to_eval.items():\n",
    "    for method, predictions in methods.items():\n",
    "        metrics_test.loc[metric, method] = metric_func(*predictions[1]).round(2)"
   ]
  },
  {
   "cell_type": "code",
   "execution_count": 103,
   "metadata": {
    "ExecuteTime": {
     "end_time": "2020-11-03T17:03:03.380865Z",
     "start_time": "2020-11-03T17:03:03.367167Z"
    }
   },
   "outputs": [
    {
     "data": {
      "text/html": [
       "<div>\n",
       "<style scoped>\n",
       "    .dataframe tbody tr th:only-of-type {\n",
       "        vertical-align: middle;\n",
       "    }\n",
       "\n",
       "    .dataframe tbody tr th {\n",
       "        vertical-align: top;\n",
       "    }\n",
       "\n",
       "    .dataframe thead th {\n",
       "        text-align: right;\n",
       "    }\n",
       "</style>\n",
       "<table border=\"1\" class=\"dataframe\">\n",
       "  <thead>\n",
       "    <tr style=\"text-align: right;\">\n",
       "      <th></th>\n",
       "      <th>SVM</th>\n",
       "      <th>RandomForest</th>\n",
       "      <th>GradientBoosting</th>\n",
       "    </tr>\n",
       "  </thead>\n",
       "  <tbody>\n",
       "    <tr>\n",
       "      <th>Accuracy</th>\n",
       "      <td>0.81</td>\n",
       "      <td>0.89</td>\n",
       "      <td>0.88</td>\n",
       "    </tr>\n",
       "    <tr>\n",
       "      <th>Balanced Accuracy</th>\n",
       "      <td>0.71</td>\n",
       "      <td>0.63</td>\n",
       "      <td>0.7</td>\n",
       "    </tr>\n",
       "    <tr>\n",
       "      <th>AUC</th>\n",
       "      <td>NaN</td>\n",
       "      <td>NaN</td>\n",
       "      <td>NaN</td>\n",
       "    </tr>\n",
       "    <tr>\n",
       "      <th>Precision-0</th>\n",
       "      <td>0.94</td>\n",
       "      <td>0.92</td>\n",
       "      <td>0.93</td>\n",
       "    </tr>\n",
       "    <tr>\n",
       "      <th>Precision-1</th>\n",
       "      <td>0.31</td>\n",
       "      <td>0.52</td>\n",
       "      <td>0.45</td>\n",
       "    </tr>\n",
       "    <tr>\n",
       "      <th>Recall-0</th>\n",
       "      <td>0.84</td>\n",
       "      <td>0.97</td>\n",
       "      <td>0.93</td>\n",
       "    </tr>\n",
       "    <tr>\n",
       "      <th>Recall-1</th>\n",
       "      <td>0.58</td>\n",
       "      <td>0.3</td>\n",
       "      <td>0.48</td>\n",
       "    </tr>\n",
       "    <tr>\n",
       "      <th>F1-score-0</th>\n",
       "      <td>0.89</td>\n",
       "      <td>0.94</td>\n",
       "      <td>0.93</td>\n",
       "    </tr>\n",
       "    <tr>\n",
       "      <th>F1-score-1</th>\n",
       "      <td>0.41</td>\n",
       "      <td>0.38</td>\n",
       "      <td>0.46</td>\n",
       "    </tr>\n",
       "    <tr>\n",
       "      <th>F1-macro</th>\n",
       "      <td>0.65</td>\n",
       "      <td>0.66</td>\n",
       "      <td>0.7</td>\n",
       "    </tr>\n",
       "  </tbody>\n",
       "</table>\n",
       "</div>"
      ],
      "text/plain": [
       "                    SVM RandomForest GradientBoosting\n",
       "Accuracy           0.81         0.89             0.88\n",
       "Balanced Accuracy  0.71         0.63              0.7\n",
       "AUC                 NaN          NaN              NaN\n",
       "Precision-0        0.94         0.92             0.93\n",
       "Precision-1        0.31         0.52             0.45\n",
       "Recall-0           0.84         0.97             0.93\n",
       "Recall-1           0.58          0.3             0.48\n",
       "F1-score-0         0.89         0.94             0.93\n",
       "F1-score-1         0.41         0.38             0.46\n",
       "F1-macro           0.65         0.66              0.7"
      ]
     },
     "execution_count": 103,
     "metadata": {},
     "output_type": "execute_result"
    }
   ],
   "source": [
    "metrics_test.head(len(metrics_to_eval) + 1)"
   ]
  },
  {
   "cell_type": "code",
   "execution_count": null,
   "metadata": {},
   "outputs": [],
   "source": []
  }
 ],
 "metadata": {
  "kernelspec": {
   "display_name": "mipt-stats",
   "language": "python",
   "name": "mipt-stats"
  },
  "language_info": {
   "codemirror_mode": {
    "name": "ipython",
    "version": 3
   },
   "file_extension": ".py",
   "mimetype": "text/x-python",
   "name": "python",
   "nbconvert_exporter": "python",
   "pygments_lexer": "ipython3",
   "version": "3.7.9"
  },
  "varInspector": {
   "cols": {
    "lenName": 16,
    "lenType": 16,
    "lenVar": 40
   },
   "kernels_config": {
    "python": {
     "delete_cmd_postfix": "",
     "delete_cmd_prefix": "del ",
     "library": "var_list.py",
     "varRefreshCmd": "print(var_dic_list())"
    },
    "r": {
     "delete_cmd_postfix": ") ",
     "delete_cmd_prefix": "rm(",
     "library": "var_list.r",
     "varRefreshCmd": "cat(var_dic_list()) "
    }
   },
   "types_to_exclude": [
    "module",
    "function",
    "builtin_function_or_method",
    "instance",
    "_Feature"
   ],
   "window_display": true
  }
 },
 "nbformat": 4,
 "nbformat_minor": 4
}
