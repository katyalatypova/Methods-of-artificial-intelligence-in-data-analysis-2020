{
 "cells": [
  {
   "cell_type": "markdown",
   "metadata": {},
   "source": [
    "# Логистическая регрессия"
   ]
  },
  {
   "cell_type": "code",
   "execution_count": 1,
   "metadata": {},
   "outputs": [],
   "source": [
    "import numpy as np\n",
    "import pandas as pd"
   ]
  },
  {
   "cell_type": "code",
   "execution_count": 11,
   "metadata": {},
   "outputs": [],
   "source": [
    "from sklearn.metrics import f1_score, classification_report"
   ]
  },
  {
   "cell_type": "markdown",
   "metadata": {},
   "source": [
    "### Загружаем данные"
   ]
  },
  {
   "cell_type": "code",
   "execution_count": 2,
   "metadata": {},
   "outputs": [],
   "source": [
    "df = pd.read_csv('Processed_NYSE.csv', index_col=0)"
   ]
  },
  {
   "cell_type": "code",
   "execution_count": 3,
   "metadata": {},
   "outputs": [
    {
     "data": {
      "text/html": [
       "<div>\n",
       "<style scoped>\n",
       "    .dataframe tbody tr th:only-of-type {\n",
       "        vertical-align: middle;\n",
       "    }\n",
       "\n",
       "    .dataframe tbody tr th {\n",
       "        vertical-align: top;\n",
       "    }\n",
       "\n",
       "    .dataframe thead th {\n",
       "        text-align: right;\n",
       "    }\n",
       "</style>\n",
       "<table border=\"1\" class=\"dataframe\">\n",
       "  <thead>\n",
       "    <tr style=\"text-align: right;\">\n",
       "      <th></th>\n",
       "      <th>Close</th>\n",
       "      <th>Volume</th>\n",
       "      <th>mom</th>\n",
       "      <th>mom1</th>\n",
       "      <th>mom2</th>\n",
       "      <th>mom3</th>\n",
       "      <th>ROC_5</th>\n",
       "      <th>ROC_10</th>\n",
       "      <th>ROC_15</th>\n",
       "      <th>ROC_20</th>\n",
       "      <th>...</th>\n",
       "      <th>NZD</th>\n",
       "      <th>silver-F</th>\n",
       "      <th>RUSSELL-F</th>\n",
       "      <th>S&amp;P-F</th>\n",
       "      <th>CHF</th>\n",
       "      <th>Dollar index-F</th>\n",
       "      <th>Dollar index</th>\n",
       "      <th>wheat-F</th>\n",
       "      <th>XAG</th>\n",
       "      <th>XAU</th>\n",
       "    </tr>\n",
       "    <tr>\n",
       "      <th>Date</th>\n",
       "      <th></th>\n",
       "      <th></th>\n",
       "      <th></th>\n",
       "      <th></th>\n",
       "      <th></th>\n",
       "      <th></th>\n",
       "      <th></th>\n",
       "      <th></th>\n",
       "      <th></th>\n",
       "      <th></th>\n",
       "      <th></th>\n",
       "      <th></th>\n",
       "      <th></th>\n",
       "      <th></th>\n",
       "      <th></th>\n",
       "      <th></th>\n",
       "      <th></th>\n",
       "      <th></th>\n",
       "      <th></th>\n",
       "      <th></th>\n",
       "      <th></th>\n",
       "    </tr>\n",
       "  </thead>\n",
       "  <tbody>\n",
       "    <tr>\n",
       "      <th>2009-12-31</th>\n",
       "      <td>7184.959961</td>\n",
       "      <td>NaN</td>\n",
       "      <td>NaN</td>\n",
       "      <td>NaN</td>\n",
       "      <td>NaN</td>\n",
       "      <td>NaN</td>\n",
       "      <td>NaN</td>\n",
       "      <td>NaN</td>\n",
       "      <td>NaN</td>\n",
       "      <td>NaN</td>\n",
       "      <td>...</td>\n",
       "      <td>0.03</td>\n",
       "      <td>0.26</td>\n",
       "      <td>-1.08</td>\n",
       "      <td>-1.00</td>\n",
       "      <td>-0.11</td>\n",
       "      <td>-0.08</td>\n",
       "      <td>-0.06</td>\n",
       "      <td>-0.48</td>\n",
       "      <td>0.30</td>\n",
       "      <td>0.39</td>\n",
       "    </tr>\n",
       "    <tr>\n",
       "      <th>2010-01-04</th>\n",
       "      <td>7326.740234</td>\n",
       "      <td>0.921723</td>\n",
       "      <td>0.019733</td>\n",
       "      <td>NaN</td>\n",
       "      <td>NaN</td>\n",
       "      <td>NaN</td>\n",
       "      <td>NaN</td>\n",
       "      <td>NaN</td>\n",
       "      <td>NaN</td>\n",
       "      <td>NaN</td>\n",
       "      <td>...</td>\n",
       "      <td>1.52</td>\n",
       "      <td>3.26</td>\n",
       "      <td>1.61</td>\n",
       "      <td>1.62</td>\n",
       "      <td>-0.57</td>\n",
       "      <td>-0.59</td>\n",
       "      <td>-0.42</td>\n",
       "      <td>3.12</td>\n",
       "      <td>3.91</td>\n",
       "      <td>2.10</td>\n",
       "    </tr>\n",
       "    <tr>\n",
       "      <th>2010-01-05</th>\n",
       "      <td>7354.870117</td>\n",
       "      <td>-0.375903</td>\n",
       "      <td>0.003839</td>\n",
       "      <td>0.019733</td>\n",
       "      <td>NaN</td>\n",
       "      <td>NaN</td>\n",
       "      <td>NaN</td>\n",
       "      <td>NaN</td>\n",
       "      <td>NaN</td>\n",
       "      <td>NaN</td>\n",
       "      <td>...</td>\n",
       "      <td>-0.07</td>\n",
       "      <td>1.96</td>\n",
       "      <td>-0.20</td>\n",
       "      <td>0.31</td>\n",
       "      <td>0.43</td>\n",
       "      <td>0.03</td>\n",
       "      <td>0.12</td>\n",
       "      <td>-0.90</td>\n",
       "      <td>1.42</td>\n",
       "      <td>-0.12</td>\n",
       "    </tr>\n",
       "    <tr>\n",
       "      <th>2010-01-06</th>\n",
       "      <td>7377.700195</td>\n",
       "      <td>0.996234</td>\n",
       "      <td>0.003104</td>\n",
       "      <td>0.003839</td>\n",
       "      <td>0.019733</td>\n",
       "      <td>NaN</td>\n",
       "      <td>NaN</td>\n",
       "      <td>NaN</td>\n",
       "      <td>NaN</td>\n",
       "      <td>NaN</td>\n",
       "      <td>...</td>\n",
       "      <td>0.56</td>\n",
       "      <td>2.15</td>\n",
       "      <td>-0.02</td>\n",
       "      <td>0.07</td>\n",
       "      <td>-0.56</td>\n",
       "      <td>-0.24</td>\n",
       "      <td>-0.17</td>\n",
       "      <td>2.62</td>\n",
       "      <td>2.25</td>\n",
       "      <td>1.77</td>\n",
       "    </tr>\n",
       "    <tr>\n",
       "      <th>2010-01-07</th>\n",
       "      <td>7393.930176</td>\n",
       "      <td>0.059932</td>\n",
       "      <td>0.002200</td>\n",
       "      <td>0.003104</td>\n",
       "      <td>0.003839</td>\n",
       "      <td>0.019733</td>\n",
       "      <td>NaN</td>\n",
       "      <td>NaN</td>\n",
       "      <td>NaN</td>\n",
       "      <td>NaN</td>\n",
       "      <td>...</td>\n",
       "      <td>-0.72</td>\n",
       "      <td>0.94</td>\n",
       "      <td>0.50</td>\n",
       "      <td>0.40</td>\n",
       "      <td>0.58</td>\n",
       "      <td>0.58</td>\n",
       "      <td>0.54</td>\n",
       "      <td>-1.85</td>\n",
       "      <td>0.22</td>\n",
       "      <td>-0.58</td>\n",
       "    </tr>\n",
       "  </tbody>\n",
       "</table>\n",
       "<p>5 rows × 83 columns</p>\n",
       "</div>"
      ],
      "text/plain": [
       "                  Close    Volume       mom      mom1      mom2      mom3  \\\n",
       "Date                                                                        \n",
       "2009-12-31  7184.959961       NaN       NaN       NaN       NaN       NaN   \n",
       "2010-01-04  7326.740234  0.921723  0.019733       NaN       NaN       NaN   \n",
       "2010-01-05  7354.870117 -0.375903  0.003839  0.019733       NaN       NaN   \n",
       "2010-01-06  7377.700195  0.996234  0.003104  0.003839  0.019733       NaN   \n",
       "2010-01-07  7393.930176  0.059932  0.002200  0.003104  0.003839  0.019733   \n",
       "\n",
       "            ROC_5  ROC_10  ROC_15  ROC_20  ...   NZD  silver-F  RUSSELL-F  \\\n",
       "Date                                       ...                              \n",
       "2009-12-31    NaN     NaN     NaN     NaN  ...  0.03      0.26      -1.08   \n",
       "2010-01-04    NaN     NaN     NaN     NaN  ...  1.52      3.26       1.61   \n",
       "2010-01-05    NaN     NaN     NaN     NaN  ... -0.07      1.96      -0.20   \n",
       "2010-01-06    NaN     NaN     NaN     NaN  ...  0.56      2.15      -0.02   \n",
       "2010-01-07    NaN     NaN     NaN     NaN  ... -0.72      0.94       0.50   \n",
       "\n",
       "            S&P-F   CHF  Dollar index-F  Dollar index  wheat-F   XAG   XAU  \n",
       "Date                                                                        \n",
       "2009-12-31  -1.00 -0.11           -0.08         -0.06    -0.48  0.30  0.39  \n",
       "2010-01-04   1.62 -0.57           -0.59         -0.42     3.12  3.91  2.10  \n",
       "2010-01-05   0.31  0.43            0.03          0.12    -0.90  1.42 -0.12  \n",
       "2010-01-06   0.07 -0.56           -0.24         -0.17     2.62  2.25  1.77  \n",
       "2010-01-07   0.40  0.58            0.58          0.54    -1.85  0.22 -0.58  \n",
       "\n",
       "[5 rows x 83 columns]"
      ]
     },
     "execution_count": 3,
     "metadata": {},
     "output_type": "execute_result"
    }
   ],
   "source": [
    "df.head()"
   ]
  },
  {
   "cell_type": "markdown",
   "metadata": {},
   "source": [
    "Для задачи бинарной классификации Target-переменная получается из Close:\n",
    "\n",
    "$$\\mathrm{target}_t = \n",
    "\\begin{cases}\n",
    "  1, & \\mathrm{close}_{t+1} > \\mathrm{close}_{t}\\\\    \n",
    "  0, & \\mathrm{otherwise}   \n",
    "\\end{cases}$$"
   ]
  },
  {
   "cell_type": "markdown",
   "metadata": {},
   "source": [
    "Целевая переменная:"
   ]
  },
  {
   "cell_type": "code",
   "execution_count": 4,
   "metadata": {},
   "outputs": [],
   "source": [
    "target = (np.array(df[21:].Close) - np.array(df[20:-1].Close) > 0).astype(int)"
   ]
  },
  {
   "cell_type": "code",
   "execution_count": 5,
   "metadata": {},
   "outputs": [],
   "source": [
    "df = df[20:-1]\n",
    "df = df.drop(['Close', 'Name'], axis=1)\n",
    "df['target'] = target"
   ]
  },
  {
   "cell_type": "markdown",
   "metadata": {},
   "source": [
    "Заполняем пропуски средним:"
   ]
  },
  {
   "cell_type": "code",
   "execution_count": 6,
   "metadata": {},
   "outputs": [],
   "source": [
    "df = df.fillna(df.mean())"
   ]
  },
  {
   "cell_type": "markdown",
   "metadata": {},
   "source": [
    "---"
   ]
  },
  {
   "cell_type": "markdown",
   "metadata": {},
   "source": [
    "### Обучение"
   ]
  },
  {
   "cell_type": "code",
   "execution_count": 7,
   "metadata": {},
   "outputs": [],
   "source": [
    "y = df['target']\n",
    "X = df.drop(['target'], axis=1)"
   ]
  },
  {
   "cell_type": "code",
   "execution_count": 8,
   "metadata": {},
   "outputs": [],
   "source": [
    "from sklearn.model_selection import train_test_split\n",
    "X_train, X_test, y_train, y_test = train_test_split(X, y, test_size=0.33, \n",
    "                                                    random_state=42, stratify=y)"
   ]
  },
  {
   "cell_type": "code",
   "execution_count": 14,
   "metadata": {},
   "outputs": [],
   "source": [
    "from sklearn.linear_model import LogisticRegression \n",
    "from sklearn.model_selection import StratifiedKFold, GridSearchCV\n",
    "\n",
    "logreg_model = LogisticRegression()\n",
    "\n",
    "params = {\n",
    "            'penalty': ['l1', 'l2'],\n",
    "            'solver': ['liblinear', 'saga'],\n",
    "            'C': np.arange(0.1, 10, 0.1)\n",
    "         }\n",
    "\n",
    "skf = StratifiedKFold(n_splits=3, shuffle = True, random_state=42)\n",
    "\n",
    "\n",
    "grid = GridSearchCV(logreg_model, \n",
    "                    param_grid = params,  \n",
    "                    n_jobs = -1, \n",
    "                    cv = skf.split(X_train, y_train),\n",
    "                    scoring='f1_macro')"
   ]
  },
  {
   "cell_type": "code",
   "execution_count": 15,
   "metadata": {},
   "outputs": [
    {
     "data": {
      "text/plain": [
       "{'C': 3.9000000000000004, 'penalty': 'l2', 'solver': 'liblinear'}"
      ]
     },
     "execution_count": 15,
     "metadata": {},
     "output_type": "execute_result"
    }
   ],
   "source": [
    "grid.fit(X_train, y_train)\n",
    "best_params = grid.best_params_\n",
    "best_params"
   ]
  },
  {
   "cell_type": "code",
   "execution_count": 16,
   "metadata": {},
   "outputs": [
    {
     "name": "stdout",
     "output_type": "stream",
     "text": [
      "              precision    recall  f1-score   support\n",
      "\n",
      "           0       0.47      0.25      0.33       303\n",
      "           1       0.53      0.75      0.62       345\n",
      "\n",
      "    accuracy                           0.52       648\n",
      "   macro avg       0.50      0.50      0.47       648\n",
      "weighted avg       0.50      0.52      0.48       648\n",
      "\n"
     ]
    }
   ],
   "source": [
    "logreg = LogisticRegression(solver='liblinear',\n",
    "                            penalty='l2',\n",
    "                            C=3.9,\n",
    "                            max_iter=1000)\n",
    "logreg.fit(X_train, y_train)\n",
    "y_pred = logreg.predict(X_test)\n",
    "\n",
    "print(classification_report(y_test, y_pred))"
   ]
  },
  {
   "cell_type": "markdown",
   "metadata": {},
   "source": [
    "------"
   ]
  },
  {
   "cell_type": "code",
   "execution_count": 112,
   "metadata": {},
   "outputs": [],
   "source": [
    "from sklearn.linear_model import LogisticRegression \n",
    "from sklearn.model_selection import StratifiedKFold, GridSearchCV\n",
    "\n",
    "logreg_model = LogisticRegression()\n",
    "\n",
    "params = {\n",
    "            'penalty': ['l2'],\n",
    "            'solver': ['liblinear', 'lbfgs'],\n",
    "            'C': np.arange(0.001, 10, 0.05)\n",
    "         }\n",
    "\n",
    "skf = StratifiedKFold(n_splits=3, shuffle = True, random_state=42)\n",
    "\n",
    "\n",
    "grid = GridSearchCV(logreg_model, \n",
    "                    param_grid = params,  \n",
    "                    n_jobs = -1, \n",
    "                    cv = skf.split(X_train, y_train),\n",
    "                    scoring='f1_macro')"
   ]
  },
  {
   "cell_type": "code",
   "execution_count": 113,
   "metadata": {},
   "outputs": [
    {
     "data": {
      "text/plain": [
       "{'C': 8.251, 'penalty': 'l2', 'solver': 'liblinear'}"
      ]
     },
     "execution_count": 113,
     "metadata": {},
     "output_type": "execute_result"
    }
   ],
   "source": [
    "grid.fit(X_train, y_train)\n",
    "best_params = grid.best_params_\n",
    "best_params"
   ]
  },
  {
   "cell_type": "code",
   "execution_count": 18,
   "metadata": {},
   "outputs": [
    {
     "name": "stdout",
     "output_type": "stream",
     "text": [
      "              precision    recall  f1-score   support\n",
      "\n",
      "           0       0.45      0.20      0.28       303\n",
      "           1       0.53      0.78      0.63       345\n",
      "\n",
      "    accuracy                           0.51       648\n",
      "   macro avg       0.49      0.49      0.45       648\n",
      "weighted avg       0.49      0.51      0.47       648\n",
      "\n"
     ]
    }
   ],
   "source": [
    "logreg = LogisticRegression(penalty='l2',\n",
    "                            solver='liblinear',\n",
    "                            C=8.25)\n",
    "logreg.fit(X_train, y_train)\n",
    "y_pred = logreg.predict(X_test)\n",
    "print(classification_report(y_test, y_pred))"
   ]
  },
  {
   "cell_type": "markdown",
   "metadata": {},
   "source": [
    "--------"
   ]
  },
  {
   "cell_type": "code",
   "execution_count": 121,
   "metadata": {},
   "outputs": [],
   "source": [
    "\n",
    "logreg_model = LogisticRegression(max_iter=1000)\n",
    "\n",
    "params = {\n",
    "            'penalty': ['l2'],\n",
    "            'solver': ['liblinear', 'lbfgs'],\n",
    "            'C': np.arange(0.001, 10, 0.05)\n",
    "         }\n",
    "\n",
    "skf = StratifiedKFold(n_splits=3, shuffle = True, random_state=42)\n",
    "\n",
    "\n",
    "grid = GridSearchCV(logreg_model, \n",
    "                    param_grid = params,  \n",
    "                    n_jobs = -1, \n",
    "                    cv = skf.split(X_train, y_train),\n",
    "                    scoring='accuracy')"
   ]
  },
  {
   "cell_type": "code",
   "execution_count": 122,
   "metadata": {},
   "outputs": [
    {
     "data": {
      "text/plain": [
       "{'C': 0.001, 'penalty': 'l2', 'solver': 'lbfgs'}"
      ]
     },
     "execution_count": 122,
     "metadata": {},
     "output_type": "execute_result"
    }
   ],
   "source": [
    "grid.fit(X_train, y_train)\n",
    "best_params = grid.best_params_\n",
    "best_params"
   ]
  },
  {
   "cell_type": "code",
   "execution_count": 19,
   "metadata": {},
   "outputs": [
    {
     "name": "stdout",
     "output_type": "stream",
     "text": [
      "              precision    recall  f1-score   support\n",
      "\n",
      "           0       0.49      0.13      0.21       303\n",
      "           1       0.54      0.88      0.67       345\n",
      "\n",
      "    accuracy                           0.53       648\n",
      "   macro avg       0.51      0.51      0.44       648\n",
      "weighted avg       0.51      0.53      0.45       648\n",
      "\n"
     ]
    }
   ],
   "source": [
    "logreg = LogisticRegression(penalty='l2',\n",
    "                            solver='lbfgs',\n",
    "                            C=0.001,\n",
    "                            max_iter=1000)\n",
    "logreg.fit(X_train, y_train)\n",
    "y_pred = logreg.predict(X_test)\n",
    "print(classification_report(y_test, y_pred))"
   ]
  },
  {
   "cell_type": "code",
   "execution_count": 17,
   "metadata": {},
   "outputs": [
    {
     "name": "stdout",
     "output_type": "stream",
     "text": [
      "              precision    recall  f1-score   support\n",
      "\n",
      "           0       0.51      0.17      0.26       303\n",
      "           1       0.54      0.86      0.66       345\n",
      "\n",
      "    accuracy                           0.54       648\n",
      "   macro avg       0.53      0.51      0.46       648\n",
      "weighted avg       0.53      0.54      0.48       648\n",
      "\n"
     ]
    }
   ],
   "source": [
    "logreg = LogisticRegression(solver='lbfgs',\n",
    "                            penalty='l2',\n",
    "                            C=0.5,\n",
    "                            max_iter=1000)\n",
    "logreg.fit(X_train, y_train)\n",
    "y_pred = logreg.predict(X_test)\n",
    "print(classification_report(y_test, y_pred))"
   ]
  },
  {
   "cell_type": "markdown",
   "metadata": {},
   "source": [
    "----"
   ]
  }
 ],
 "metadata": {
  "kernelspec": {
   "display_name": "Python 3",
   "language": "python",
   "name": "python3"
  },
  "language_info": {
   "codemirror_mode": {
    "name": "ipython",
    "version": 3
   },
   "file_extension": ".py",
   "mimetype": "text/x-python",
   "name": "python",
   "nbconvert_exporter": "python",
   "pygments_lexer": "ipython3",
   "version": "3.6.9"
  }
 },
 "nbformat": 4,
 "nbformat_minor": 2
}
