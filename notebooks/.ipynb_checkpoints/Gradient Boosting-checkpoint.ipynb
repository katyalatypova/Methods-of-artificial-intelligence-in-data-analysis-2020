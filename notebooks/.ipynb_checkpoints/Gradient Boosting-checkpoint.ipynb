{
 "cells": [
  {
   "cell_type": "code",
   "execution_count": 68,
   "metadata": {
    "ExecuteTime": {
     "end_time": "2020-10-31T12:18:41.637060Z",
     "start_time": "2020-10-31T12:18:41.621306Z"
    }
   },
   "outputs": [],
   "source": [
    "import catboost as ctb\n",
    "import pandas as pd\n",
    "import numpy as np\n",
    "import matplotlib.pyplot as plt\n",
    "import xgboost as xgb\n",
    "\n",
    "from sklearn.model_selection import train_test_split\n",
    "from sklearn.metrics import f1_score, classification_report"
   ]
  },
  {
   "cell_type": "markdown",
   "metadata": {},
   "source": [
    "# Чтение данных"
   ]
  },
  {
   "cell_type": "code",
   "execution_count": 7,
   "metadata": {
    "ExecuteTime": {
     "end_time": "2020-10-31T09:36:08.592665Z",
     "start_time": "2020-10-31T09:36:08.530299Z"
    }
   },
   "outputs": [
    {
     "data": {
      "text/html": [
       "<div>\n",
       "<style scoped>\n",
       "    .dataframe tbody tr th:only-of-type {\n",
       "        vertical-align: middle;\n",
       "    }\n",
       "\n",
       "    .dataframe tbody tr th {\n",
       "        vertical-align: top;\n",
       "    }\n",
       "\n",
       "    .dataframe thead th {\n",
       "        text-align: right;\n",
       "    }\n",
       "</style>\n",
       "<table border=\"1\" class=\"dataframe\">\n",
       "  <thead>\n",
       "    <tr style=\"text-align: right;\">\n",
       "      <th></th>\n",
       "      <th>age</th>\n",
       "      <th>job</th>\n",
       "      <th>marital</th>\n",
       "      <th>education</th>\n",
       "      <th>default</th>\n",
       "      <th>housing</th>\n",
       "      <th>loan</th>\n",
       "      <th>contact</th>\n",
       "      <th>month</th>\n",
       "      <th>day_of_week</th>\n",
       "      <th>campaign</th>\n",
       "      <th>pdays</th>\n",
       "      <th>previous</th>\n",
       "      <th>poutcome</th>\n",
       "      <th>emp.var.rate</th>\n",
       "      <th>cons.price.idx</th>\n",
       "      <th>cons.conf.idx</th>\n",
       "      <th>euribor3m</th>\n",
       "      <th>nr.employed</th>\n",
       "      <th>y</th>\n",
       "    </tr>\n",
       "  </thead>\n",
       "  <tbody>\n",
       "    <tr>\n",
       "      <th>0</th>\n",
       "      <td>-0.980752</td>\n",
       "      <td>1</td>\n",
       "      <td>1</td>\n",
       "      <td>2</td>\n",
       "      <td>0</td>\n",
       "      <td>2</td>\n",
       "      <td>0</td>\n",
       "      <td>0</td>\n",
       "      <td>6</td>\n",
       "      <td>0</td>\n",
       "      <td>-0.209228</td>\n",
       "      <td>999</td>\n",
       "      <td>-0.351356</td>\n",
       "      <td>1</td>\n",
       "      <td>-1.206054</td>\n",
       "      <td>-1.185448</td>\n",
       "      <td>-1.240939</td>\n",
       "      <td>-1.331707</td>\n",
       "      <td>-0.914779</td>\n",
       "      <td>0</td>\n",
       "    </tr>\n",
       "    <tr>\n",
       "      <th>1</th>\n",
       "      <td>-0.107991</td>\n",
       "      <td>7</td>\n",
       "      <td>2</td>\n",
       "      <td>3</td>\n",
       "      <td>0</td>\n",
       "      <td>0</td>\n",
       "      <td>0</td>\n",
       "      <td>1</td>\n",
       "      <td>6</td>\n",
       "      <td>0</td>\n",
       "      <td>0.569634</td>\n",
       "      <td>999</td>\n",
       "      <td>-0.351356</td>\n",
       "      <td>1</td>\n",
       "      <td>0.649441</td>\n",
       "      <td>0.715193</td>\n",
       "      <td>0.892269</td>\n",
       "      <td>0.711698</td>\n",
       "      <td>0.332862</td>\n",
       "      <td>0</td>\n",
       "    </tr>\n",
       "    <tr>\n",
       "      <th>2</th>\n",
       "      <td>-1.465619</td>\n",
       "      <td>7</td>\n",
       "      <td>1</td>\n",
       "      <td>3</td>\n",
       "      <td>0</td>\n",
       "      <td>2</td>\n",
       "      <td>0</td>\n",
       "      <td>1</td>\n",
       "      <td>4</td>\n",
       "      <td>4</td>\n",
       "      <td>-0.598660</td>\n",
       "      <td>999</td>\n",
       "      <td>-0.351356</td>\n",
       "      <td>1</td>\n",
       "      <td>0.841389</td>\n",
       "      <td>1.528273</td>\n",
       "      <td>-0.283172</td>\n",
       "      <td>0.773427</td>\n",
       "      <td>0.836535</td>\n",
       "      <td>0</td>\n",
       "    </tr>\n",
       "    <tr>\n",
       "      <th>3</th>\n",
       "      <td>-0.204965</td>\n",
       "      <td>7</td>\n",
       "      <td>1</td>\n",
       "      <td>2</td>\n",
       "      <td>0</td>\n",
       "      <td>1</td>\n",
       "      <td>1</td>\n",
       "      <td>1</td>\n",
       "      <td>4</td>\n",
       "      <td>0</td>\n",
       "      <td>0.180203</td>\n",
       "      <td>999</td>\n",
       "      <td>-0.351356</td>\n",
       "      <td>1</td>\n",
       "      <td>0.841389</td>\n",
       "      <td>1.528273</td>\n",
       "      <td>-0.283172</td>\n",
       "      <td>0.771697</td>\n",
       "      <td>0.836535</td>\n",
       "      <td>0</td>\n",
       "    </tr>\n",
       "    <tr>\n",
       "      <th>4</th>\n",
       "      <td>0.667795</td>\n",
       "      <td>0</td>\n",
       "      <td>1</td>\n",
       "      <td>6</td>\n",
       "      <td>0</td>\n",
       "      <td>2</td>\n",
       "      <td>0</td>\n",
       "      <td>0</td>\n",
       "      <td>7</td>\n",
       "      <td>1</td>\n",
       "      <td>-0.598660</td>\n",
       "      <td>999</td>\n",
       "      <td>-0.351356</td>\n",
       "      <td>1</td>\n",
       "      <td>-0.118350</td>\n",
       "      <td>-0.655478</td>\n",
       "      <td>-0.326707</td>\n",
       "      <td>0.328632</td>\n",
       "      <td>0.398028</td>\n",
       "      <td>0</td>\n",
       "    </tr>\n",
       "  </tbody>\n",
       "</table>\n",
       "</div>"
      ],
      "text/plain": [
       "        age  job  marital  education  default  housing  loan  contact  month  \\\n",
       "0 -0.980752    1        1          2        0        2     0        0      6   \n",
       "1 -0.107991    7        2          3        0        0     0        1      6   \n",
       "2 -1.465619    7        1          3        0        2     0        1      4   \n",
       "3 -0.204965    7        1          2        0        1     1        1      4   \n",
       "4  0.667795    0        1          6        0        2     0        0      7   \n",
       "\n",
       "   day_of_week  campaign  pdays  previous  poutcome  emp.var.rate  \\\n",
       "0            0 -0.209228    999 -0.351356         1     -1.206054   \n",
       "1            0  0.569634    999 -0.351356         1      0.649441   \n",
       "2            4 -0.598660    999 -0.351356         1      0.841389   \n",
       "3            0  0.180203    999 -0.351356         1      0.841389   \n",
       "4            1 -0.598660    999 -0.351356         1     -0.118350   \n",
       "\n",
       "   cons.price.idx  cons.conf.idx  euribor3m  nr.employed  y  \n",
       "0       -1.185448      -1.240939  -1.331707    -0.914779  0  \n",
       "1        0.715193       0.892269   0.711698     0.332862  0  \n",
       "2        1.528273      -0.283172   0.773427     0.836535  0  \n",
       "3        1.528273      -0.283172   0.771697     0.836535  0  \n",
       "4       -0.655478      -0.326707   0.328632     0.398028  0  "
      ]
     },
     "execution_count": 7,
     "metadata": {},
     "output_type": "execute_result"
    }
   ],
   "source": [
    "data = pd.read_csv('../data/processed/bank-additional-encoded-and-scaled.csv',\n",
    "                   delimiter=';', index_col=0)\n",
    "data.head()"
   ]
  },
  {
   "cell_type": "code",
   "execution_count": 8,
   "metadata": {
    "ExecuteTime": {
     "end_time": "2020-10-31T09:36:33.423244Z",
     "start_time": "2020-10-31T09:36:33.400254Z"
    }
   },
   "outputs": [],
   "source": [
    "y = data['y'].copy()\n",
    "X = data.drop('y', axis=1).copy()"
   ]
  },
  {
   "cell_type": "markdown",
   "metadata": {},
   "source": [
    "Посмотрим на сбалансированность классов:"
   ]
  },
  {
   "cell_type": "code",
   "execution_count": 19,
   "metadata": {
    "ExecuteTime": {
     "end_time": "2020-10-31T10:33:12.564717Z",
     "start_time": "2020-10-31T10:33:12.545876Z"
    }
   },
   "outputs": [
    {
     "data": {
      "text/plain": [
       "0    3668\n",
       "1     451\n",
       "Name: y, dtype: int64"
      ]
     },
     "execution_count": 19,
     "metadata": {},
     "output_type": "execute_result"
    }
   ],
   "source": [
    "y.value_counts()"
   ]
  },
  {
   "cell_type": "markdown",
   "metadata": {},
   "source": [
    "Видно, что классы сильно не сбалансированные. Разделим выборку на обучающую и тестовую, при этом учтем, что классы несбалансированные с помощью параметра `stratify`. "
   ]
  },
  {
   "cell_type": "code",
   "execution_count": 20,
   "metadata": {
    "ExecuteTime": {
     "end_time": "2020-10-31T10:35:53.281972Z",
     "start_time": "2020-10-31T10:35:53.258008Z"
    }
   },
   "outputs": [],
   "source": [
    "X_train, X_test, y_train, y_test = train_test_split(X, y, test_size=0.33, \n",
    "                                                    random_state=42, stratify=y)"
   ]
  },
  {
   "cell_type": "markdown",
   "metadata": {},
   "source": [
    "# Catboost"
   ]
  },
  {
   "cell_type": "markdown",
   "metadata": {},
   "source": [
    "С полным списком параметров можно ознакомиться $\\href{https://catboost.ai/docs/concepts/python-reference_catboostclassifier.html}{здесь}$. Нас будут интересовать следующие:\n",
    "\n",
    "* iterations \n",
    "* learning_rate\n",
    "* loss_function\n",
    "* eval_metric\n",
    "* bootstrap_type\n",
    "* class_weights/auto_class_weights\t\n",
    "* boosting_type\n",
    "\n",
    "* depth\n",
    "* max_leaves\n",
    "* min_data_in_leaf\n"
   ]
  },
  {
   "cell_type": "markdown",
   "metadata": {},
   "source": [
    "Подберем гиперпараметры с помощью GridSearch. В качестве метрики будем использовать F1, поскольку  классы несбалансированные. Также добавим параметр, отвечающий за балансировку классов"
   ]
  },
  {
   "cell_type": "code",
   "execution_count": null,
   "metadata": {},
   "outputs": [],
   "source": [
    "ctb_classifier = ctb.CatBoostClassifier(eval_metric='F1',\n",
    "                                       loss_function='Logloss',\n",
    "                                       auto_class_weights='SqrtBalanced',\n",
    "                                       logging_level='Silent')\n",
    "\n",
    "grid = {\n",
    "    'iterations': np.arange(50, 1000, 100),\n",
    "    'learning_rate': np.linspace(0.001, 0.05, 10),\n",
    "    'depth': np.arange(4, 10),\n",
    "    'l2_leaf_reg': np.linspace(1, 10, 10)\n",
    "\n",
    "}\n",
    "\n",
    "search_result = ctb_classifier.grid_search(\n",
    "                            grid,\n",
    "                            X=X_train, \n",
    "                            y=y_train, \n",
    "                            plot=True\n",
    ")"
   ]
  },
  {
   "attachments": {
    "image.png": {
     "image/png": "[encoded data removed]"
    }
   },
   "cell_type": "markdown",
   "metadata": {},
   "source": [
    "![image.png](attachment:image.png)"
   ]
  },
  {
   "cell_type": "markdown",
   "metadata": {},
   "source": [
    "Обучим классификатор с лучшими параметрами:"
   ]
  },
  {
   "cell_type": "code",
   "execution_count": 193,
   "metadata": {
    "ExecuteTime": {
     "end_time": "2020-10-31T19:16:07.559762Z",
     "start_time": "2020-10-31T19:16:07.546013Z"
    }
   },
   "outputs": [],
   "source": [
    "ctb_classifier = ctb.CatBoostClassifier(eval_metric='F1',\n",
    "                                       loss_function='Logloss',\n",
    "                                       auto_class_weights='SqrtBalanced',\n",
    "                                       logging_level='Silent',\n",
    "                                       depth = 8,\n",
    "                                       iterations = 150,\n",
    "                                       l2_leaf_reg = 6.0,\n",
    "                                       learning_rate = 0.023,\n",
    "                                       min_data_in_leaf = 5\n",
    "                                       )"
   ]
  },
  {
   "cell_type": "code",
   "execution_count": 194,
   "metadata": {
    "ExecuteTime": {
     "end_time": "2020-10-31T19:16:08.510650Z",
     "start_time": "2020-10-31T19:16:08.060761Z"
    }
   },
   "outputs": [
    {
     "data": {
      "text/plain": [
       "<catboost.core.CatBoostClassifier at 0x7f75b6607510>"
      ]
     },
     "execution_count": 194,
     "metadata": {},
     "output_type": "execute_result"
    }
   ],
   "source": [
    "ctb_classifier.fit(X_train, y_train)"
   ]
  },
  {
   "cell_type": "code",
   "execution_count": 195,
   "metadata": {
    "ExecuteTime": {
     "end_time": "2020-10-31T19:16:08.705309Z",
     "start_time": "2020-10-31T19:16:08.684022Z"
    }
   },
   "outputs": [],
   "source": [
    "y_pred = ctb_classifier.predict(X_test)"
   ]
  },
  {
   "cell_type": "code",
   "execution_count": 196,
   "metadata": {
    "ExecuteTime": {
     "end_time": "2020-10-31T19:16:08.894455Z",
     "start_time": "2020-10-31T19:16:08.880926Z"
    }
   },
   "outputs": [
    {
     "name": "stdout",
     "output_type": "stream",
     "text": [
      "              precision    recall  f1-score   support\n",
      "\n",
      "           0       0.93      0.94      0.94      1211\n",
      "           1       0.47      0.43      0.45       149\n",
      "\n",
      "    accuracy                           0.88      1360\n",
      "   macro avg       0.70      0.68      0.69      1360\n",
      "weighted avg       0.88      0.88      0.88      1360\n",
      "\n"
     ]
    }
   ],
   "source": [
    "print(classification_report(y_test, y_pred))"
   ]
  },
  {
   "cell_type": "markdown",
   "metadata": {},
   "source": [
    "# XGBoost"
   ]
  },
  {
   "cell_type": "markdown",
   "metadata": {},
   "source": [
    "Сначала посмотрим на классификатор с параметрами, аналогичными полученным в CatBoost"
   ]
  },
  {
   "cell_type": "code",
   "execution_count": 253,
   "metadata": {
    "ExecuteTime": {
     "end_time": "2020-10-31T19:36:39.634767Z",
     "start_time": "2020-10-31T19:36:39.619296Z"
    }
   },
   "outputs": [],
   "source": [
    "xgb_classifier = xgb.XGBClassifier(silent=True, \n",
    "                      scale_pos_weight=1211/149,\n",
    "                      learning_rate=0.023,  \n",
    "                      colsample_bytree = 0.4,\n",
    "                      subsample = 0.9,\n",
    "                      objective='binary:logistic',\n",
    "                      eval_metric='auc',\n",
    "                      n_estimators=150, \n",
    "                      reg_alpha = 6,\n",
    "                      max_depth=8, \n",
    "                      gamma=20)"
   ]
  },
  {
   "cell_type": "code",
   "execution_count": 254,
   "metadata": {
    "ExecuteTime": {
     "end_time": "2020-10-31T19:36:40.420021Z",
     "start_time": "2020-10-31T19:36:40.120870Z"
    }
   },
   "outputs": [
    {
     "name": "stdout",
     "output_type": "stream",
     "text": [
      "[22:36:40] WARNING: ../src/learner.cc:516: \n",
      "Parameters: { silent } might not be used.\n",
      "\n",
      "  This may not be accurate due to some parameters are only used in language bindings but\n",
      "  passed down to XGBoost core.  Or some parameters are not used but slip through this\n",
      "  verification. Please open an issue if you find above cases.\n",
      "\n",
      "\n"
     ]
    },
    {
     "data": {
      "text/plain": [
       "XGBClassifier(base_score=0.5, booster='gbtree', colsample_bylevel=1,\n",
       "              colsample_bynode=1, colsample_bytree=0.4, eval_metric='auc',\n",
       "              gamma=20, gpu_id=-1, importance_type='gain',\n",
       "              interaction_constraints='', learning_rate=0.023, max_delta_step=0,\n",
       "              max_depth=8, min_child_weight=1, missing=nan,\n",
       "              monotone_constraints='()', n_estimators=150, n_jobs=0,\n",
       "              num_parallel_tree=1, objective='binary:logistic', random_state=0,\n",
       "              reg_alpha=6, reg_lambda=1, scale_pos_weight=8.12751677852349,\n",
       "              silent=True, subsample=0.9, tree_method='exact',\n",
       "              validate_parameters=1, verbosity=None)"
      ]
     },
     "execution_count": 254,
     "metadata": {},
     "output_type": "execute_result"
    }
   ],
   "source": [
    "xgb_classifier.fit(X_train, y_train)"
   ]
  },
  {
   "cell_type": "code",
   "execution_count": 255,
   "metadata": {
    "ExecuteTime": {
     "end_time": "2020-10-31T19:36:40.687780Z",
     "start_time": "2020-10-31T19:36:40.638810Z"
    }
   },
   "outputs": [],
   "source": [
    "y_pred = xgb_classifier.predict(X_test)"
   ]
  },
  {
   "cell_type": "code",
   "execution_count": 256,
   "metadata": {
    "ExecuteTime": {
     "end_time": "2020-10-31T19:36:41.094273Z",
     "start_time": "2020-10-31T19:36:41.042030Z"
    }
   },
   "outputs": [
    {
     "name": "stdout",
     "output_type": "stream",
     "text": [
      "              precision    recall  f1-score   support\n",
      "\n",
      "           0       0.95      0.88      0.91      1211\n",
      "           1       0.38      0.60      0.46       149\n",
      "\n",
      "    accuracy                           0.85      1360\n",
      "   macro avg       0.66      0.74      0.69      1360\n",
      "weighted avg       0.88      0.85      0.86      1360\n",
      "\n"
     ]
    }
   ],
   "source": [
    "print(classification_report(y_test, y_pred))"
   ]
  },
  {
   "cell_type": "markdown",
   "metadata": {},
   "source": [
    "А теперь подберем гиперпараметры с помощью GridSearch"
   ]
  },
  {
   "cell_type": "code",
   "execution_count": 275,
   "metadata": {
    "ExecuteTime": {
     "end_time": "2020-10-31T20:24:45.836970Z",
     "start_time": "2020-10-31T20:24:45.817994Z"
    }
   },
   "outputs": [],
   "source": [
    "from sklearn.model_selection import StratifiedKFold, GridSearchCV\n",
    "\n",
    "params = {\n",
    "            'eta': np.arange(0.1, 0.26, 0.05),\n",
    "            'subsample': np.arange(0.5, 1.0, 0.15),\n",
    "            'n_estimators': np.arange(50, 500, 100),\n",
    "            'reg_alpha': [1, 3, 6, 10],\n",
    "            'max_depth': [4, 6, 8]\n",
    "    \n",
    "        }\n",
    "\n",
    "skf = StratifiedKFold(n_splits=3, shuffle = True, random_state=42)\n",
    "\n",
    "\n",
    "xgb_model = xgb.XGBClassifier(silent=True, \n",
    "                      scale_pos_weight=1211/149,\n",
    "                      objective='binary:logistic')\n",
    "\n",
    "\n",
    "grid = GridSearchCV(xgb_model, \n",
    "                    param_grid = params,  \n",
    "                    n_jobs = -1, \n",
    "                    cv = skf.split(X_train, y_train),\n",
    "                    scoring='f1_macro')\n"
   ]
  },
  {
   "cell_type": "code",
   "execution_count": 276,
   "metadata": {
    "ExecuteTime": {
     "end_time": "2020-10-31T20:35:28.575626Z",
     "start_time": "2020-10-31T20:24:46.582912Z"
    }
   },
   "outputs": [
    {
     "name": "stdout",
     "output_type": "stream",
     "text": [
      "[23:35:28] WARNING: ../src/learner.cc:516: \n",
      "Parameters: { silent } might not be used.\n",
      "\n",
      "  This may not be accurate due to some parameters are only used in language bindings but\n",
      "  passed down to XGBoost core.  Or some parameters are not used but slip through this\n",
      "  verification. Please open an issue if you find above cases.\n",
      "\n",
      "\n"
     ]
    },
    {
     "data": {
      "text/plain": [
       "{'eta': 0.1,\n",
       " 'max_depth': 8,\n",
       " 'n_estimators': 50,\n",
       " 'reg_alpha': 3,\n",
       " 'subsample': 0.65}"
      ]
     },
     "execution_count": 276,
     "metadata": {},
     "output_type": "execute_result"
    }
   ],
   "source": [
    "grid.fit(X_train, y_train)\n",
    "best_params = grid.best_params_\n",
    "best_params"
   ]
  },
  {
   "cell_type": "code",
   "execution_count": 277,
   "metadata": {
    "ExecuteTime": {
     "end_time": "2020-10-31T20:35:28.702533Z",
     "start_time": "2020-10-31T20:35:28.699239Z"
    }
   },
   "outputs": [],
   "source": [
    "best_classifier = grid.best_estimator_"
   ]
  },
  {
   "cell_type": "code",
   "execution_count": 278,
   "metadata": {
    "ExecuteTime": {
     "end_time": "2020-10-31T20:35:28.840982Z",
     "start_time": "2020-10-31T20:35:28.824913Z"
    }
   },
   "outputs": [],
   "source": [
    "y_pred = best_classifier.predict(X_test)"
   ]
  },
  {
   "cell_type": "code",
   "execution_count": 279,
   "metadata": {
    "ExecuteTime": {
     "end_time": "2020-10-31T20:35:28.989656Z",
     "start_time": "2020-10-31T20:35:28.981022Z"
    }
   },
   "outputs": [
    {
     "name": "stdout",
     "output_type": "stream",
     "text": [
      "              precision    recall  f1-score   support\n",
      "\n",
      "           0       0.93      0.91      0.92      1211\n",
      "           1       0.39      0.46      0.42       149\n",
      "\n",
      "    accuracy                           0.86      1360\n",
      "   macro avg       0.66      0.68      0.67      1360\n",
      "weighted avg       0.87      0.86      0.87      1360\n",
      "\n"
     ]
    }
   ],
   "source": [
    "print(classification_report(y_test, y_pred))"
   ]
  },
  {
   "cell_type": "markdown",
   "metadata": {},
   "source": [
    "Результат получился хуже, чем изначальные параметры, подобранные по аналогии с кэтбустом."
   ]
  }
 ],
 "metadata": {
  "kernelspec": {
   "display_name": "mipt-stats",
   "language": "python",
   "name": "mipt-stats"
  },
  "language_info": {
   "codemirror_mode": {
    "name": "ipython",
    "version": 3
   },
   "file_extension": ".py",
   "mimetype": "text/x-python",
   "name": "python",
   "nbconvert_exporter": "python",
   "pygments_lexer": "ipython3",
   "version": "3.7.9"
  },
  "varInspector": {
   "cols": {
    "lenName": 16,
    "lenType": 16,
    "lenVar": 40
   },
   "kernels_config": {
    "python": {
     "delete_cmd_postfix": "",
     "delete_cmd_prefix": "del ",
     "library": "var_list.py",
     "varRefreshCmd": "print(var_dic_list())"
    },
    "r": {
     "delete_cmd_postfix": ") ",
     "delete_cmd_prefix": "rm(",
     "library": "var_list.r",
     "varRefreshCmd": "cat(var_dic_list()) "
    }
   },
   "oldHeight": 122.4,
   "position": {
    "height": "40px",
    "left": "1213.2px",
    "right": "20px",
    "top": "120px",
    "width": "250px"
   },
   "types_to_exclude": [
    "module",
    "function",
    "builtin_function_or_method",
    "instance",
    "_Feature"
   ],
   "varInspector_section_display": "none",
   "window_display": true
  }
 },
 "nbformat": 4,
 "nbformat_minor": 4
}
