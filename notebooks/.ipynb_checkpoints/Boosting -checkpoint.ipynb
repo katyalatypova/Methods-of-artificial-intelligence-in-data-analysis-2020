{
 "cells": [
  {
   "cell_type": "code",
   "execution_count": 1,
   "metadata": {
    "ExecuteTime": {
     "end_time": "2020-10-31T08:51:41.947533Z",
     "start_time": "2020-10-31T08:51:40.560103Z"
    }
   },
   "outputs": [],
   "source": [
    "import matplotlib.pyplot as plt\n",
    "import pandas as pd\n",
    "import numpy as np\n",
    "import seaborn as sns"
   ]
  },
  {
   "cell_type": "markdown",
   "metadata": {},
   "source": [
    "# Чтение данных"
   ]
  },
  {
   "cell_type": "code",
   "execution_count": 7,
   "metadata": {
    "ExecuteTime": {
     "end_time": "2020-10-31T09:36:08.592665Z",
     "start_time": "2020-10-31T09:36:08.530299Z"
    }
   },
   "outputs": [
    {
     "data": {
      "text/html": [
       "<div>\n",
       "<style scoped>\n",
       "    .dataframe tbody tr th:only-of-type {\n",
       "        vertical-align: middle;\n",
       "    }\n",
       "\n",
       "    .dataframe tbody tr th {\n",
       "        vertical-align: top;\n",
       "    }\n",
       "\n",
       "    .dataframe thead th {\n",
       "        text-align: right;\n",
       "    }\n",
       "</style>\n",
       "<table border=\"1\" class=\"dataframe\">\n",
       "  <thead>\n",
       "    <tr style=\"text-align: right;\">\n",
       "      <th></th>\n",
       "      <th>age</th>\n",
       "      <th>job</th>\n",
       "      <th>marital</th>\n",
       "      <th>education</th>\n",
       "      <th>default</th>\n",
       "      <th>housing</th>\n",
       "      <th>loan</th>\n",
       "      <th>contact</th>\n",
       "      <th>month</th>\n",
       "      <th>day_of_week</th>\n",
       "      <th>campaign</th>\n",
       "      <th>pdays</th>\n",
       "      <th>previous</th>\n",
       "      <th>poutcome</th>\n",
       "      <th>emp.var.rate</th>\n",
       "      <th>cons.price.idx</th>\n",
       "      <th>cons.conf.idx</th>\n",
       "      <th>euribor3m</th>\n",
       "      <th>nr.employed</th>\n",
       "      <th>y</th>\n",
       "    </tr>\n",
       "  </thead>\n",
       "  <tbody>\n",
       "    <tr>\n",
       "      <th>0</th>\n",
       "      <td>-0.980752</td>\n",
       "      <td>1</td>\n",
       "      <td>1</td>\n",
       "      <td>2</td>\n",
       "      <td>0</td>\n",
       "      <td>2</td>\n",
       "      <td>0</td>\n",
       "      <td>0</td>\n",
       "      <td>6</td>\n",
       "      <td>0</td>\n",
       "      <td>-0.209228</td>\n",
       "      <td>999</td>\n",
       "      <td>-0.351356</td>\n",
       "      <td>1</td>\n",
       "      <td>-1.206054</td>\n",
       "      <td>-1.185448</td>\n",
       "      <td>-1.240939</td>\n",
       "      <td>-1.331707</td>\n",
       "      <td>-0.914779</td>\n",
       "      <td>0</td>\n",
       "    </tr>\n",
       "    <tr>\n",
       "      <th>1</th>\n",
       "      <td>-0.107991</td>\n",
       "      <td>7</td>\n",
       "      <td>2</td>\n",
       "      <td>3</td>\n",
       "      <td>0</td>\n",
       "      <td>0</td>\n",
       "      <td>0</td>\n",
       "      <td>1</td>\n",
       "      <td>6</td>\n",
       "      <td>0</td>\n",
       "      <td>0.569634</td>\n",
       "      <td>999</td>\n",
       "      <td>-0.351356</td>\n",
       "      <td>1</td>\n",
       "      <td>0.649441</td>\n",
       "      <td>0.715193</td>\n",
       "      <td>0.892269</td>\n",
       "      <td>0.711698</td>\n",
       "      <td>0.332862</td>\n",
       "      <td>0</td>\n",
       "    </tr>\n",
       "    <tr>\n",
       "      <th>2</th>\n",
       "      <td>-1.465619</td>\n",
       "      <td>7</td>\n",
       "      <td>1</td>\n",
       "      <td>3</td>\n",
       "      <td>0</td>\n",
       "      <td>2</td>\n",
       "      <td>0</td>\n",
       "      <td>1</td>\n",
       "      <td>4</td>\n",
       "      <td>4</td>\n",
       "      <td>-0.598660</td>\n",
       "      <td>999</td>\n",
       "      <td>-0.351356</td>\n",
       "      <td>1</td>\n",
       "      <td>0.841389</td>\n",
       "      <td>1.528273</td>\n",
       "      <td>-0.283172</td>\n",
       "      <td>0.773427</td>\n",
       "      <td>0.836535</td>\n",
       "      <td>0</td>\n",
       "    </tr>\n",
       "    <tr>\n",
       "      <th>3</th>\n",
       "      <td>-0.204965</td>\n",
       "      <td>7</td>\n",
       "      <td>1</td>\n",
       "      <td>2</td>\n",
       "      <td>0</td>\n",
       "      <td>1</td>\n",
       "      <td>1</td>\n",
       "      <td>1</td>\n",
       "      <td>4</td>\n",
       "      <td>0</td>\n",
       "      <td>0.180203</td>\n",
       "      <td>999</td>\n",
       "      <td>-0.351356</td>\n",
       "      <td>1</td>\n",
       "      <td>0.841389</td>\n",
       "      <td>1.528273</td>\n",
       "      <td>-0.283172</td>\n",
       "      <td>0.771697</td>\n",
       "      <td>0.836535</td>\n",
       "      <td>0</td>\n",
       "    </tr>\n",
       "    <tr>\n",
       "      <th>4</th>\n",
       "      <td>0.667795</td>\n",
       "      <td>0</td>\n",
       "      <td>1</td>\n",
       "      <td>6</td>\n",
       "      <td>0</td>\n",
       "      <td>2</td>\n",
       "      <td>0</td>\n",
       "      <td>0</td>\n",
       "      <td>7</td>\n",
       "      <td>1</td>\n",
       "      <td>-0.598660</td>\n",
       "      <td>999</td>\n",
       "      <td>-0.351356</td>\n",
       "      <td>1</td>\n",
       "      <td>-0.118350</td>\n",
       "      <td>-0.655478</td>\n",
       "      <td>-0.326707</td>\n",
       "      <td>0.328632</td>\n",
       "      <td>0.398028</td>\n",
       "      <td>0</td>\n",
       "    </tr>\n",
       "  </tbody>\n",
       "</table>\n",
       "</div>"
      ],
      "text/plain": [
       "        age  job  marital  education  default  housing  loan  contact  month  \\\n",
       "0 -0.980752    1        1          2        0        2     0        0      6   \n",
       "1 -0.107991    7        2          3        0        0     0        1      6   \n",
       "2 -1.465619    7        1          3        0        2     0        1      4   \n",
       "3 -0.204965    7        1          2        0        1     1        1      4   \n",
       "4  0.667795    0        1          6        0        2     0        0      7   \n",
       "\n",
       "   day_of_week  campaign  pdays  previous  poutcome  emp.var.rate  \\\n",
       "0            0 -0.209228    999 -0.351356         1     -1.206054   \n",
       "1            0  0.569634    999 -0.351356         1      0.649441   \n",
       "2            4 -0.598660    999 -0.351356         1      0.841389   \n",
       "3            0  0.180203    999 -0.351356         1      0.841389   \n",
       "4            1 -0.598660    999 -0.351356         1     -0.118350   \n",
       "\n",
       "   cons.price.idx  cons.conf.idx  euribor3m  nr.employed  y  \n",
       "0       -1.185448      -1.240939  -1.331707    -0.914779  0  \n",
       "1        0.715193       0.892269   0.711698     0.332862  0  \n",
       "2        1.528273      -0.283172   0.773427     0.836535  0  \n",
       "3        1.528273      -0.283172   0.771697     0.836535  0  \n",
       "4       -0.655478      -0.326707   0.328632     0.398028  0  "
      ]
     },
     "execution_count": 7,
     "metadata": {},
     "output_type": "execute_result"
    }
   ],
   "source": [
    "data = pd.read_csv('../data/processed/bank-additional-encoded-and-scaled.csv',\n",
    "                   delimiter=';', index_col=0)\n",
    "data.head()"
   ]
  },
  {
   "cell_type": "code",
   "execution_count": 8,
   "metadata": {
    "ExecuteTime": {
     "end_time": "2020-10-31T09:36:33.423244Z",
     "start_time": "2020-10-31T09:36:33.400254Z"
    }
   },
   "outputs": [],
   "source": [
    "y = data['y'].copy()\n",
    "X = data.drop('y', axis=1).copy()"
   ]
  },
  {
   "cell_type": "code",
   "execution_count": null,
   "metadata": {},
   "outputs": [],
   "source": []
  }
 ],
 "metadata": {
  "kernelspec": {
   "display_name": "mipt-stats",
   "language": "python",
   "name": "mipt-stats"
  },
  "language_info": {
   "codemirror_mode": {
    "name": "ipython",
    "version": 3
   },
   "file_extension": ".py",
   "mimetype": "text/x-python",
   "name": "python",
   "nbconvert_exporter": "python",
   "pygments_lexer": "ipython3",
   "version": "3.7.9"
  },
  "varInspector": {
   "cols": {
    "lenName": 16,
    "lenType": 16,
    "lenVar": 40
   },
   "kernels_config": {
    "python": {
     "delete_cmd_postfix": "",
     "delete_cmd_prefix": "del ",
     "library": "var_list.py",
     "varRefreshCmd": "print(var_dic_list())"
    },
    "r": {
     "delete_cmd_postfix": ") ",
     "delete_cmd_prefix": "rm(",
     "library": "var_list.r",
     "varRefreshCmd": "cat(var_dic_list()) "
    }
   },
   "oldHeight": 122.4,
   "position": {
    "height": "40px",
    "left": "1213.2px",
    "right": "20px",
    "top": "120px",
    "width": "250px"
   },
   "types_to_exclude": [
    "module",
    "function",
    "builtin_function_or_method",
    "instance",
    "_Feature"
   ],
   "varInspector_section_display": "none",
   "window_display": true
  }
 },
 "nbformat": 4,
 "nbformat_minor": 4
}
