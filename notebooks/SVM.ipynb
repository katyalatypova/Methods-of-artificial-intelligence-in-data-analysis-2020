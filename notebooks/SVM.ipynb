{
  "nbformat": 4,
  "nbformat_minor": 0,
  "metadata": {
    "kernelspec": {
      "display_name": "Python 3",
      "language": "python",
      "name": "python3"
    },
    "language_info": {
      "codemirror_mode": {
        "name": "ipython",
        "version": 3
      },
      "file_extension": ".py",
      "mimetype": "text/x-python",
      "name": "python",
      "nbconvert_exporter": "python",
      "pygments_lexer": "ipython3",
      "version": "3.6.9"
    },
    "colab": {
      "name": "SVM.ipynb",
      "provenance": [],
      "collapsed_sections": []
    }
  },
  "cells": [
    {
      "cell_type": "markdown",
      "metadata": {
        "id": "u30kuG88lLMa"
      },
      "source": [
        "# SVM"
      ]
    },
    {
      "cell_type": "code",
      "metadata": {
        "id": "z882PXY9lLMb"
      },
      "source": [
        "import pandas as pd\n",
        "import numpy as np"
      ],
      "execution_count": 2,
      "outputs": []
    },
    {
      "cell_type": "code",
      "metadata": {
        "id": "3X2mrezPlRT4",
        "outputId": "545f2dc4-b6b7-40fa-d75c-19b5c1aafec2",
        "colab": {
          "base_uri": "https://localhost:8080/"
        }
      },
      "source": [
        "from google.colab import drive\n",
        "drive.mount('/content/drive')"
      ],
      "execution_count": 1,
      "outputs": [
        {
          "output_type": "stream",
          "text": [
            "Mounted at /content/drive\n"
          ],
          "name": "stdout"
        }
      ]
    },
    {
      "cell_type": "code",
      "metadata": {
        "id": "WmeVSvsXlZ7H"
      },
      "source": [
        "df = pd.read_csv('./drive/My Drive/bank-additional-prepared.csv',\n",
        "                   delimiter=';', index_col=0)"
      ],
      "execution_count": 3,
      "outputs": []
    },
    {
      "cell_type": "code",
      "metadata": {
        "id": "b3NTW6uklLMg"
      },
      "source": [
        "# df = pd.read_csv('../data/processed/bank-additional-prepared.csv',\n",
        "#                    delimiter=';', index_col=0)"
      ],
      "execution_count": null,
      "outputs": []
    },
    {
      "cell_type": "code",
      "metadata": {
        "id": "Z3eaqmO1lLMl"
      },
      "source": [
        "y = df['y_yes']\n",
        "X = df.drop(['y_yes'], axis=1)"
      ],
      "execution_count": 4,
      "outputs": []
    },
    {
      "cell_type": "code",
      "metadata": {
        "id": "nHFkLVbPlLMp"
      },
      "source": [
        "from sklearn.model_selection import train_test_split\n",
        "X_train, X_test, y_train, y_test = train_test_split(X, y, test_size=0.33, \n",
        "                                                    random_state=5, stratify=y)"
      ],
      "execution_count": 25,
      "outputs": []
    },
    {
      "cell_type": "markdown",
      "metadata": {
        "id": "Re1g0WxqlLMu"
      },
      "source": [
        "## Linear kernel"
      ]
    },
    {
      "cell_type": "code",
      "metadata": {
        "id": "BK0e9RlJlLMu"
      },
      "source": [
        "from sklearn.svm import SVC\n",
        "from sklearn.model_selection import StratifiedKFold, GridSearchCV\n",
        "\n",
        "svm_model = SVC(kernel='linear', class_weight='balanced')\n",
        "\n",
        "params = {\n",
        "            'C': np.arange(0.01, 10, 0.5),\n",
        "            'probability': [True, False]\n",
        "         }\n",
        "\n",
        "skf = StratifiedKFold(n_splits=3, shuffle = True, random_state=42)\n",
        "\n",
        "\n",
        "grid = GridSearchCV(svm_model, \n",
        "                    param_grid = params,  \n",
        "                    n_jobs = -1, \n",
        "                    cv = skf.split(X_train, y_train),\n",
        "                    scoring='f1')"
      ],
      "execution_count": 26,
      "outputs": []
    },
    {
      "cell_type": "code",
      "metadata": {
        "id": "4XAm25RdlLMy",
        "outputId": "6f48e7e8-fdc6-48bd-d06e-aa50ff6d091e",
        "colab": {
          "base_uri": "https://localhost:8080/"
        }
      },
      "source": [
        "grid.fit(X_train, y_train)\n",
        "best_params = grid.best_params_\n",
        "best_params"
      ],
      "execution_count": 27,
      "outputs": [
        {
          "output_type": "execute_result",
          "data": {
            "text/plain": [
              "{'C': 0.51, 'probability': True}"
            ]
          },
          "metadata": {
            "tags": []
          },
          "execution_count": 27
        }
      ]
    },
    {
      "cell_type": "code",
      "metadata": {
        "id": "xdZxyOoylLM2",
        "outputId": "4683458f-a843-4b3a-c70c-23118d557899",
        "colab": {
          "base_uri": "https://localhost:8080/"
        }
      },
      "source": [
        "svm = SVC(kernel='linear', \n",
        "          class_weight='balanced',\n",
        "          C=0.51,\n",
        "          probability=True)\n",
        "\n",
        "svm.fit(X_train, y_train)"
      ],
      "execution_count": 28,
      "outputs": [
        {
          "output_type": "execute_result",
          "data": {
            "text/plain": [
              "SVC(C=0.51, break_ties=False, cache_size=200, class_weight='balanced',\n",
              "    coef0=0.0, decision_function_shape='ovr', degree=3, gamma='scale',\n",
              "    kernel='linear', max_iter=-1, probability=True, random_state=None,\n",
              "    shrinking=True, tol=0.001, verbose=False)"
            ]
          },
          "metadata": {
            "tags": []
          },
          "execution_count": 28
        }
      ]
    },
    {
      "cell_type": "code",
      "metadata": {
        "id": "YZVUGaMdlLM8"
      },
      "source": [
        "y_pred = svm.predict(X_test)"
      ],
      "execution_count": 29,
      "outputs": []
    },
    {
      "cell_type": "code",
      "metadata": {
        "id": "aL2jD0AclLM_",
        "outputId": "a4b31287-33da-4bde-953e-4daf33dc0237",
        "colab": {
          "base_uri": "https://localhost:8080/"
        }
      },
      "source": [
        "from sklearn.metrics import f1_score, classification_report\n",
        "\n",
        "print(classification_report(y_test, y_pred))"
      ],
      "execution_count": 30,
      "outputs": [
        {
          "output_type": "stream",
          "text": [
            "              precision    recall  f1-score   support\n",
            "\n",
            "           0       0.95      0.81      0.87      1128\n",
            "           1       0.30      0.65      0.41       141\n",
            "\n",
            "    accuracy                           0.79      1269\n",
            "   macro avg       0.62      0.73      0.64      1269\n",
            "weighted avg       0.88      0.79      0.82      1269\n",
            "\n"
          ],
          "name": "stdout"
        }
      ]
    },
    {
      "cell_type": "markdown",
      "metadata": {
        "id": "J7DB8U44lLND"
      },
      "source": [
        "## Polynomial kernel\n"
      ]
    },
    {
      "cell_type": "code",
      "metadata": {
        "id": "s1oad4VolLND"
      },
      "source": [
        "svm_model = SVC(kernel='poly', class_weight='balanced')\n",
        "\n",
        "params = {\n",
        "            'C': np.arange(0.01, 5, 0.5),\n",
        "            'probability': [True, False]\n",
        "        }\n",
        "\n",
        "skf = StratifiedKFold(n_splits=3, shuffle = True, random_state=42)\n",
        "\n",
        "\n",
        "grid = GridSearchCV(svm_model, \n",
        "                    param_grid = params,  \n",
        "                    n_jobs = -1, \n",
        "                    cv = skf.split(X_train, y_train),\n",
        "                    scoring='f1_macro')"
      ],
      "execution_count": null,
      "outputs": []
    },
    {
      "cell_type": "code",
      "metadata": {
        "scrolled": true,
        "id": "lc_KEzOilLNG"
      },
      "source": [
        "grid.fit(X_train, y_train)\n",
        "best_params = grid.best_params_\n",
        "best_params"
      ],
      "execution_count": null,
      "outputs": []
    },
    {
      "cell_type": "code",
      "metadata": {
        "id": "4otkbV4SlLNJ",
        "outputId": "f044812a-20de-4552-d075-fd62a94403c0",
        "colab": {
          "base_uri": "https://localhost:8080/"
        }
      },
      "source": [
        "svm = SVC(kernel='poly', \n",
        "          class_weight='balanced',\n",
        "          C=0.5,\n",
        "          degree=3)\n",
        "\n",
        "svm.fit(X_train, y_train)"
      ],
      "execution_count": 34,
      "outputs": [
        {
          "output_type": "execute_result",
          "data": {
            "text/plain": [
              "SVC(C=0.5, break_ties=False, cache_size=200, class_weight='balanced', coef0=0.0,\n",
              "    decision_function_shape='ovr', degree=3, gamma='scale', kernel='poly',\n",
              "    max_iter=-1, probability=False, random_state=None, shrinking=True,\n",
              "    tol=0.001, verbose=False)"
            ]
          },
          "metadata": {
            "tags": []
          },
          "execution_count": 34
        }
      ]
    },
    {
      "cell_type": "code",
      "metadata": {
        "id": "pzabxS5HlLNM"
      },
      "source": [
        "y_pred = svm.predict(X_test)"
      ],
      "execution_count": 35,
      "outputs": []
    },
    {
      "cell_type": "code",
      "metadata": {
        "id": "c9qKPh1ylLNQ",
        "outputId": "a741244e-4bc9-4bd4-bae1-49fbb602efa9",
        "colab": {
          "base_uri": "https://localhost:8080/"
        }
      },
      "source": [
        "print(classification_report(y_test, y_pred))"
      ],
      "execution_count": 36,
      "outputs": [
        {
          "output_type": "stream",
          "text": [
            "              precision    recall  f1-score   support\n",
            "\n",
            "           0       0.91      0.98      0.94      1128\n",
            "           1       0.53      0.20      0.29       141\n",
            "\n",
            "    accuracy                           0.89      1269\n",
            "   macro avg       0.72      0.59      0.61      1269\n",
            "weighted avg       0.86      0.89      0.87      1269\n",
            "\n"
          ],
          "name": "stdout"
        }
      ]
    },
    {
      "cell_type": "markdown",
      "metadata": {
        "id": "N3v44pIllLNS"
      },
      "source": [
        "### Sigmoid kernel"
      ]
    },
    {
      "cell_type": "code",
      "metadata": {
        "id": "pqHFGeA2lLNT"
      },
      "source": [
        "svm_model = SVC(kernel='sigmoid', class_weight='balanced')\n",
        "\n",
        "params = {\n",
        "            'C': np.arange(0.1, 10, 0.5),\n",
        "            'probability': [True, False]\n",
        "         }\n",
        "\n",
        "skf = StratifiedKFold(n_splits=3, shuffle = True, random_state=42)\n",
        "\n",
        "\n",
        "grid = GridSearchCV(svm_model, \n",
        "                    param_grid = params,  \n",
        "                    n_jobs = -1, \n",
        "                    cv = skf.split(X_train, y_train),\n",
        "                    scoring='f1')"
      ],
      "execution_count": 37,
      "outputs": []
    },
    {
      "cell_type": "code",
      "metadata": {
        "id": "5zHD-6tulLNX",
        "outputId": "cb82db31-13e8-4ef7-83e7-9917dd40a166",
        "colab": {
          "base_uri": "https://localhost:8080/"
        }
      },
      "source": [
        "grid.fit(X_train, y_train)\n",
        "best_params = grid.best_params_\n",
        "best_params"
      ],
      "execution_count": 38,
      "outputs": [
        {
          "output_type": "execute_result",
          "data": {
            "text/plain": [
              "{'C': 0.1, 'probability': True}"
            ]
          },
          "metadata": {
            "tags": []
          },
          "execution_count": 38
        }
      ]
    },
    {
      "cell_type": "code",
      "metadata": {
        "id": "yO7Qd9PrlLNZ",
        "outputId": "f912f288-218e-4b2c-d084-08b8ec63874e",
        "colab": {
          "base_uri": "https://localhost:8080/"
        }
      },
      "source": [
        "svm = SVC(kernel='sigmoid', \n",
        "          class_weight='balanced',\n",
        "          C=0.1,\n",
        "          probability=True)\n",
        "\n",
        "svm.fit(X_train, y_train)"
      ],
      "execution_count": 39,
      "outputs": [
        {
          "output_type": "execute_result",
          "data": {
            "text/plain": [
              "SVC(C=0.1, break_ties=False, cache_size=200, class_weight='balanced', coef0=0.0,\n",
              "    decision_function_shape='ovr', degree=3, gamma='scale', kernel='sigmoid',\n",
              "    max_iter=-1, probability=True, random_state=None, shrinking=True, tol=0.001,\n",
              "    verbose=False)"
            ]
          },
          "metadata": {
            "tags": []
          },
          "execution_count": 39
        }
      ]
    },
    {
      "cell_type": "code",
      "metadata": {
        "id": "O7S2DDhIlLNc"
      },
      "source": [
        "y_pred = svm.predict(X_test)"
      ],
      "execution_count": 40,
      "outputs": []
    },
    {
      "cell_type": "code",
      "metadata": {
        "id": "Y1TAqcIJlLNf",
        "outputId": "568971e6-3726-47e4-ccf9-6f80ae955484",
        "colab": {
          "base_uri": "https://localhost:8080/"
        }
      },
      "source": [
        "print(classification_report(y_test, y_pred))"
      ],
      "execution_count": 41,
      "outputs": [
        {
          "output_type": "stream",
          "text": [
            "              precision    recall  f1-score   support\n",
            "\n",
            "           0       0.91      0.98      0.94      1128\n",
            "           1       0.53      0.20      0.29       141\n",
            "\n",
            "    accuracy                           0.89      1269\n",
            "   macro avg       0.72      0.59      0.61      1269\n",
            "weighted avg       0.86      0.89      0.87      1269\n",
            "\n"
          ],
          "name": "stdout"
        }
      ]
    },
    {
      "cell_type": "markdown",
      "metadata": {
        "id": "Xd8IbAoIlLNi"
      },
      "source": [
        "## Radial basis function (RBF) kernel"
      ]
    },
    {
      "cell_type": "code",
      "metadata": {
        "id": "bbQZYOmzlLNj"
      },
      "source": [
        "svm_model = SVC(kernel='rbf', class_weight='balanced')\n",
        "\n",
        "params = {\n",
        "            'C': np.arange(0.01, 10, 0.5),\n",
        "            'probability': [True, False]\n",
        "         }\n",
        "\n",
        "skf = StratifiedKFold(n_splits=3, shuffle = True, random_state=42)\n",
        "\n",
        "\n",
        "grid = GridSearchCV(svm_model, \n",
        "                    param_grid = params,  \n",
        "                    n_jobs = -1, \n",
        "                    cv = skf.split(X_train, y_train),\n",
        "                    scoring='f1')"
      ],
      "execution_count": 42,
      "outputs": []
    },
    {
      "cell_type": "code",
      "metadata": {
        "id": "kI2NRRs9lLNm",
        "outputId": "52528463-2ae4-4a46-f536-5901d34a0942",
        "colab": {
          "base_uri": "https://localhost:8080/"
        }
      },
      "source": [
        "grid.fit(X_train, y_train)\n",
        "best_params = grid.best_params_\n",
        "best_params"
      ],
      "execution_count": 43,
      "outputs": [
        {
          "output_type": "execute_result",
          "data": {
            "text/plain": [
              "{'C': 0.01, 'probability': True}"
            ]
          },
          "metadata": {
            "tags": []
          },
          "execution_count": 43
        }
      ]
    },
    {
      "cell_type": "code",
      "metadata": {
        "id": "Y21V_Q5FlLNq",
        "outputId": "89fdf99a-ddcb-46f8-f2de-6c44b97b78c8",
        "colab": {
          "base_uri": "https://localhost:8080/"
        }
      },
      "source": [
        "svm = SVC(kernel='rbf', \n",
        "          class_weight='balanced',\n",
        "          C=0.01,\n",
        "          probability=True)\n",
        "\n",
        "svm.fit(X_train, y_train)"
      ],
      "execution_count": 44,
      "outputs": [
        {
          "output_type": "execute_result",
          "data": {
            "text/plain": [
              "SVC(C=0.01, break_ties=False, cache_size=200, class_weight='balanced',\n",
              "    coef0=0.0, decision_function_shape='ovr', degree=3, gamma='scale',\n",
              "    kernel='rbf', max_iter=-1, probability=True, random_state=None,\n",
              "    shrinking=True, tol=0.001, verbose=False)"
            ]
          },
          "metadata": {
            "tags": []
          },
          "execution_count": 44
        }
      ]
    },
    {
      "cell_type": "code",
      "metadata": {
        "id": "9nobGQbspW08"
      },
      "source": [
        "y_pred = svm.predict(X_test)"
      ],
      "execution_count": 46,
      "outputs": []
    },
    {
      "cell_type": "code",
      "metadata": {
        "id": "rSH8hArWlLNs",
        "outputId": "0d0cb639-85cd-4cf9-bf03-934b5172dff2",
        "colab": {
          "base_uri": "https://localhost:8080/"
        }
      },
      "source": [
        "print(classification_report(y_test, y_pred))"
      ],
      "execution_count": 47,
      "outputs": [
        {
          "output_type": "stream",
          "text": [
            "              precision    recall  f1-score   support\n",
            "\n",
            "           0       0.91      0.98      0.94      1128\n",
            "           1       0.53      0.20      0.29       141\n",
            "\n",
            "    accuracy                           0.89      1269\n",
            "   macro avg       0.72      0.59      0.61      1269\n",
            "weighted avg       0.86      0.89      0.87      1269\n",
            "\n"
          ],
          "name": "stdout"
        }
      ]
    },
    {
      "cell_type": "code",
      "metadata": {
        "id": "X4JbT4BmpTYB"
      },
      "source": [
        ""
      ],
      "execution_count": null,
      "outputs": []
    }
  ]
}