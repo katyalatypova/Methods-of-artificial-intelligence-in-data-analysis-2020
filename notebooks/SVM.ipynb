{
 "cells": [
  {
   "cell_type": "markdown",
   "metadata": {
    "id": "u30kuG88lLMa"
   },
   "source": [
    "# SVM"
   ]
  },
  {
   "cell_type": "code",
   "execution_count": 2,
   "metadata": {
    "ExecuteTime": {
     "end_time": "2020-11-03T11:16:03.663505Z",
     "start_time": "2020-11-03T11:16:03.350381Z"
    },
    "id": "z882PXY9lLMb"
   },
   "outputs": [],
   "source": [
    "import pandas as pd\n",
    "import numpy as np"
   ]
  },
  {
   "cell_type": "code",
   "execution_count": 4,
   "metadata": {
    "ExecuteTime": {
     "end_time": "2020-11-03T11:16:31.950968Z",
     "start_time": "2020-11-03T11:16:31.857334Z"
    },
    "id": "b3NTW6uklLMg"
   },
   "outputs": [
    {
     "data": {
      "text/html": [
       "<div>\n",
       "<style scoped>\n",
       "    .dataframe tbody tr th:only-of-type {\n",
       "        vertical-align: middle;\n",
       "    }\n",
       "\n",
       "    .dataframe tbody tr th {\n",
       "        vertical-align: top;\n",
       "    }\n",
       "\n",
       "    .dataframe thead th {\n",
       "        text-align: right;\n",
       "    }\n",
       "</style>\n",
       "<table border=\"1\" class=\"dataframe\">\n",
       "  <thead>\n",
       "    <tr style=\"text-align: right;\">\n",
       "      <th></th>\n",
       "      <th>age</th>\n",
       "      <th>campaign</th>\n",
       "      <th>pdays</th>\n",
       "      <th>previous</th>\n",
       "      <th>emp.var.rate</th>\n",
       "      <th>cons.price.idx</th>\n",
       "      <th>cons.conf.idx</th>\n",
       "      <th>nr.employed</th>\n",
       "      <th>job_blue-collar</th>\n",
       "      <th>job_entrepreneur</th>\n",
       "      <th>...</th>\n",
       "      <th>month_nov</th>\n",
       "      <th>month_oct</th>\n",
       "      <th>month_sep</th>\n",
       "      <th>day_of_week_mon</th>\n",
       "      <th>day_of_week_thu</th>\n",
       "      <th>day_of_week_tue</th>\n",
       "      <th>day_of_week_wed</th>\n",
       "      <th>poutcome_nonexistent</th>\n",
       "      <th>poutcome_success</th>\n",
       "      <th>y_yes</th>\n",
       "    </tr>\n",
       "  </thead>\n",
       "  <tbody>\n",
       "    <tr>\n",
       "      <th>0</th>\n",
       "      <td>-1.003948</td>\n",
       "      <td>-0.040741</td>\n",
       "      <td>999</td>\n",
       "      <td>-0.360434</td>\n",
       "      <td>-1.186478</td>\n",
       "      <td>-1.169212</td>\n",
       "      <td>-1.225351</td>\n",
       "      <td>-0.908583</td>\n",
       "      <td>1</td>\n",
       "      <td>0</td>\n",
       "      <td>...</td>\n",
       "      <td>0</td>\n",
       "      <td>0</td>\n",
       "      <td>0</td>\n",
       "      <td>0</td>\n",
       "      <td>0</td>\n",
       "      <td>0</td>\n",
       "      <td>0</td>\n",
       "      <td>1</td>\n",
       "      <td>0</td>\n",
       "      <td>0</td>\n",
       "    </tr>\n",
       "    <tr>\n",
       "      <th>1</th>\n",
       "      <td>-0.078393</td>\n",
       "      <td>1.525749</td>\n",
       "      <td>999</td>\n",
       "      <td>-0.360434</td>\n",
       "      <td>0.667295</td>\n",
       "      <td>0.736218</td>\n",
       "      <td>0.904159</td>\n",
       "      <td>0.345977</td>\n",
       "      <td>0</td>\n",
       "      <td>0</td>\n",
       "      <td>...</td>\n",
       "      <td>0</td>\n",
       "      <td>0</td>\n",
       "      <td>0</td>\n",
       "      <td>0</td>\n",
       "      <td>0</td>\n",
       "      <td>0</td>\n",
       "      <td>0</td>\n",
       "      <td>1</td>\n",
       "      <td>0</td>\n",
       "      <td>0</td>\n",
       "    </tr>\n",
       "    <tr>\n",
       "      <th>2</th>\n",
       "      <td>-1.518145</td>\n",
       "      <td>-0.823986</td>\n",
       "      <td>999</td>\n",
       "      <td>-0.360434</td>\n",
       "      <td>0.859065</td>\n",
       "      <td>1.551347</td>\n",
       "      <td>-0.269245</td>\n",
       "      <td>0.852442</td>\n",
       "      <td>0</td>\n",
       "      <td>0</td>\n",
       "      <td>...</td>\n",
       "      <td>0</td>\n",
       "      <td>0</td>\n",
       "      <td>0</td>\n",
       "      <td>0</td>\n",
       "      <td>0</td>\n",
       "      <td>0</td>\n",
       "      <td>1</td>\n",
       "      <td>1</td>\n",
       "      <td>0</td>\n",
       "      <td>0</td>\n",
       "    </tr>\n",
       "    <tr>\n",
       "      <th>3</th>\n",
       "      <td>-0.181233</td>\n",
       "      <td>0.742504</td>\n",
       "      <td>999</td>\n",
       "      <td>-0.360434</td>\n",
       "      <td>0.859065</td>\n",
       "      <td>1.551347</td>\n",
       "      <td>-0.269245</td>\n",
       "      <td>0.852442</td>\n",
       "      <td>0</td>\n",
       "      <td>0</td>\n",
       "      <td>...</td>\n",
       "      <td>0</td>\n",
       "      <td>0</td>\n",
       "      <td>0</td>\n",
       "      <td>0</td>\n",
       "      <td>0</td>\n",
       "      <td>0</td>\n",
       "      <td>0</td>\n",
       "      <td>1</td>\n",
       "      <td>0</td>\n",
       "      <td>0</td>\n",
       "    </tr>\n",
       "    <tr>\n",
       "      <th>4</th>\n",
       "      <td>0.744322</td>\n",
       "      <td>-0.823986</td>\n",
       "      <td>999</td>\n",
       "      <td>-0.360434</td>\n",
       "      <td>-0.099783</td>\n",
       "      <td>-0.637907</td>\n",
       "      <td>-0.312704</td>\n",
       "      <td>0.411503</td>\n",
       "      <td>0</td>\n",
       "      <td>0</td>\n",
       "      <td>...</td>\n",
       "      <td>1</td>\n",
       "      <td>0</td>\n",
       "      <td>0</td>\n",
       "      <td>1</td>\n",
       "      <td>0</td>\n",
       "      <td>0</td>\n",
       "      <td>0</td>\n",
       "      <td>1</td>\n",
       "      <td>0</td>\n",
       "      <td>0</td>\n",
       "    </tr>\n",
       "  </tbody>\n",
       "</table>\n",
       "<p>5 rows × 52 columns</p>\n",
       "</div>"
      ],
      "text/plain": [
       "        age  campaign  pdays  previous  emp.var.rate  cons.price.idx  \\\n",
       "0 -1.003948 -0.040741    999 -0.360434     -1.186478       -1.169212   \n",
       "1 -0.078393  1.525749    999 -0.360434      0.667295        0.736218   \n",
       "2 -1.518145 -0.823986    999 -0.360434      0.859065        1.551347   \n",
       "3 -0.181233  0.742504    999 -0.360434      0.859065        1.551347   \n",
       "4  0.744322 -0.823986    999 -0.360434     -0.099783       -0.637907   \n",
       "\n",
       "   cons.conf.idx  nr.employed  job_blue-collar  job_entrepreneur  ...  \\\n",
       "0      -1.225351    -0.908583                1                 0  ...   \n",
       "1       0.904159     0.345977                0                 0  ...   \n",
       "2      -0.269245     0.852442                0                 0  ...   \n",
       "3      -0.269245     0.852442                0                 0  ...   \n",
       "4      -0.312704     0.411503                0                 0  ...   \n",
       "\n",
       "   month_nov  month_oct  month_sep  day_of_week_mon  day_of_week_thu  \\\n",
       "0          0          0          0                0                0   \n",
       "1          0          0          0                0                0   \n",
       "2          0          0          0                0                0   \n",
       "3          0          0          0                0                0   \n",
       "4          1          0          0                1                0   \n",
       "\n",
       "   day_of_week_tue  day_of_week_wed  poutcome_nonexistent  poutcome_success  \\\n",
       "0                0                0                     1                 0   \n",
       "1                0                0                     1                 0   \n",
       "2                0                1                     1                 0   \n",
       "3                0                0                     1                 0   \n",
       "4                0                0                     1                 0   \n",
       "\n",
       "   y_yes  \n",
       "0      0  \n",
       "1      0  \n",
       "2      0  \n",
       "3      0  \n",
       "4      0  \n",
       "\n",
       "[5 rows x 52 columns]"
      ]
     },
     "execution_count": 4,
     "metadata": {},
     "output_type": "execute_result"
    }
   ],
   "source": [
    "df = pd.read_csv('../data/processed/bank-additional-prepared.csv',\n",
    "                   delimiter=';', index_col=0)\n",
    "\n",
    "df.head()"
   ]
  },
  {
   "cell_type": "code",
   "execution_count": 5,
   "metadata": {
    "ExecuteTime": {
     "end_time": "2020-11-03T11:16:44.628250Z",
     "start_time": "2020-11-03T11:16:44.609788Z"
    },
    "id": "Z3eaqmO1lLMl"
   },
   "outputs": [],
   "source": [
    "y = df['y_yes']\n",
    "X = df.drop(['y_yes'], axis=1)"
   ]
  },
  {
   "cell_type": "code",
   "execution_count": 6,
   "metadata": {
    "ExecuteTime": {
     "end_time": "2020-11-03T11:16:51.306221Z",
     "start_time": "2020-11-03T11:16:50.880657Z"
    },
    "id": "nHFkLVbPlLMp"
   },
   "outputs": [],
   "source": [
    "from sklearn.model_selection import train_test_split\n",
    "X_train, X_test, y_train, y_test = train_test_split(X, y, test_size=0.33, \n",
    "                                                    random_state=5, stratify=y)"
   ]
  },
  {
   "cell_type": "markdown",
   "metadata": {
    "id": "Re1g0WxqlLMu"
   },
   "source": [
    "## Linear kernel"
   ]
  },
  {
   "cell_type": "code",
   "execution_count": 7,
   "metadata": {
    "ExecuteTime": {
     "end_time": "2020-11-03T11:16:52.868735Z",
     "start_time": "2020-11-03T11:16:52.802395Z"
    },
    "id": "BK0e9RlJlLMu"
   },
   "outputs": [],
   "source": [
    "from sklearn.svm import SVC\n",
    "from sklearn.model_selection import StratifiedKFold, GridSearchCV\n",
    "\n",
    "svm_model = SVC(kernel='linear', class_weight='balanced')\n",
    "\n",
    "params = {\n",
    "            'C': np.arange(0.01, 10, 0.5),\n",
    "            'probability': [True, False]\n",
    "         }\n",
    "\n",
    "skf = StratifiedKFold(n_splits=3, shuffle = True, random_state=42)\n",
    "\n",
    "\n",
    "grid = GridSearchCV(svm_model, \n",
    "                    param_grid = params,  \n",
    "                    n_jobs = -1, \n",
    "                    cv = skf.split(X_train, y_train),\n",
    "                    scoring='f1')"
   ]
  },
  {
   "cell_type": "code",
   "execution_count": null,
   "metadata": {
    "ExecuteTime": {
     "start_time": "2020-11-03T11:16:54.340Z"
    },
    "colab": {
     "base_uri": "https://localhost:8080/"
    },
    "id": "4XAm25RdlLMy",
    "outputId": "6f48e7e8-fdc6-48bd-d06e-aa50ff6d091e"
   },
   "outputs": [],
   "source": [
    "grid.fit(X_train, y_train)\n",
    "best_params = grid.best_params_\n",
    "best_params"
   ]
  },
  {
   "cell_type": "code",
   "execution_count": 28,
   "metadata": {
    "colab": {
     "base_uri": "https://localhost:8080/"
    },
    "id": "xdZxyOoylLM2",
    "outputId": "4683458f-a843-4b3a-c70c-23118d557899"
   },
   "outputs": [
    {
     "data": {
      "text/plain": [
       "SVC(C=0.51, break_ties=False, cache_size=200, class_weight='balanced',\n",
       "    coef0=0.0, decision_function_shape='ovr', degree=3, gamma='scale',\n",
       "    kernel='linear', max_iter=-1, probability=True, random_state=None,\n",
       "    shrinking=True, tol=0.001, verbose=False)"
      ]
     },
     "execution_count": 28,
     "metadata": {
      "tags": []
     },
     "output_type": "execute_result"
    }
   ],
   "source": [
    "svm = SVC(kernel='linear', \n",
    "          class_weight='balanced',\n",
    "          C=0.51,\n",
    "          probability=True)\n",
    "\n",
    "svm.fit(X_train, y_train)"
   ]
  },
  {
   "cell_type": "code",
   "execution_count": 29,
   "metadata": {
    "id": "YZVUGaMdlLM8"
   },
   "outputs": [],
   "source": [
    "y_pred = svm.predict(X_test)"
   ]
  },
  {
   "cell_type": "code",
   "execution_count": 30,
   "metadata": {
    "colab": {
     "base_uri": "https://localhost:8080/"
    },
    "id": "aL2jD0AclLM_",
    "outputId": "a4b31287-33da-4bde-953e-4daf33dc0237"
   },
   "outputs": [
    {
     "name": "stdout",
     "output_type": "stream",
     "text": [
      "              precision    recall  f1-score   support\n",
      "\n",
      "           0       0.95      0.81      0.87      1128\n",
      "           1       0.30      0.65      0.41       141\n",
      "\n",
      "    accuracy                           0.79      1269\n",
      "   macro avg       0.62      0.73      0.64      1269\n",
      "weighted avg       0.88      0.79      0.82      1269\n",
      "\n"
     ]
    }
   ],
   "source": [
    "from sklearn.metrics import f1_score, classification_report\n",
    "\n",
    "print(classification_report(y_test, y_pred))"
   ]
  },
  {
   "cell_type": "markdown",
   "metadata": {
    "id": "J7DB8U44lLND"
   },
   "source": [
    "## Polynomial kernel\n"
   ]
  },
  {
   "cell_type": "code",
   "execution_count": null,
   "metadata": {
    "id": "s1oad4VolLND"
   },
   "outputs": [],
   "source": [
    "svm_model = SVC(kernel='poly', class_weight='balanced')\n",
    "\n",
    "params = {\n",
    "            'C': np.arange(0.01, 5, 0.5),\n",
    "            'probability': [True, False]\n",
    "        }\n",
    "\n",
    "skf = StratifiedKFold(n_splits=3, shuffle = True, random_state=42)\n",
    "\n",
    "\n",
    "grid = GridSearchCV(svm_model, \n",
    "                    param_grid = params,  \n",
    "                    n_jobs = -1, \n",
    "                    cv = skf.split(X_train, y_train),\n",
    "                    scoring='f1_macro')"
   ]
  },
  {
   "cell_type": "code",
   "execution_count": null,
   "metadata": {
    "id": "lc_KEzOilLNG",
    "scrolled": true
   },
   "outputs": [],
   "source": [
    "grid.fit(X_train, y_train)\n",
    "best_params = grid.best_params_\n",
    "best_params"
   ]
  },
  {
   "cell_type": "code",
   "execution_count": 34,
   "metadata": {
    "colab": {
     "base_uri": "https://localhost:8080/"
    },
    "id": "4otkbV4SlLNJ",
    "outputId": "f044812a-20de-4552-d075-fd62a94403c0"
   },
   "outputs": [
    {
     "data": {
      "text/plain": [
       "SVC(C=0.5, break_ties=False, cache_size=200, class_weight='balanced', coef0=0.0,\n",
       "    decision_function_shape='ovr', degree=3, gamma='scale', kernel='poly',\n",
       "    max_iter=-1, probability=False, random_state=None, shrinking=True,\n",
       "    tol=0.001, verbose=False)"
      ]
     },
     "execution_count": 34,
     "metadata": {
      "tags": []
     },
     "output_type": "execute_result"
    }
   ],
   "source": [
    "svm = SVC(kernel='poly', \n",
    "          class_weight='balanced',\n",
    "          C=0.5,\n",
    "          degree=3)\n",
    "\n",
    "svm.fit(X_train, y_train)"
   ]
  },
  {
   "cell_type": "code",
   "execution_count": 35,
   "metadata": {
    "id": "pzabxS5HlLNM"
   },
   "outputs": [],
   "source": [
    "y_pred = svm.predict(X_test)"
   ]
  },
  {
   "cell_type": "code",
   "execution_count": 36,
   "metadata": {
    "colab": {
     "base_uri": "https://localhost:8080/"
    },
    "id": "c9qKPh1ylLNQ",
    "outputId": "a741244e-4bc9-4bd4-bae1-49fbb602efa9"
   },
   "outputs": [
    {
     "name": "stdout",
     "output_type": "stream",
     "text": [
      "              precision    recall  f1-score   support\n",
      "\n",
      "           0       0.91      0.98      0.94      1128\n",
      "           1       0.53      0.20      0.29       141\n",
      "\n",
      "    accuracy                           0.89      1269\n",
      "   macro avg       0.72      0.59      0.61      1269\n",
      "weighted avg       0.86      0.89      0.87      1269\n",
      "\n"
     ]
    }
   ],
   "source": [
    "print(classification_report(y_test, y_pred))"
   ]
  },
  {
   "cell_type": "markdown",
   "metadata": {
    "id": "N3v44pIllLNS"
   },
   "source": [
    "### Sigmoid kernel"
   ]
  },
  {
   "cell_type": "code",
   "execution_count": 37,
   "metadata": {
    "id": "pqHFGeA2lLNT"
   },
   "outputs": [],
   "source": [
    "svm_model = SVC(kernel='sigmoid', class_weight='balanced')\n",
    "\n",
    "params = {\n",
    "            'C': np.arange(0.1, 10, 0.5),\n",
    "            'probability': [True, False]\n",
    "         }\n",
    "\n",
    "skf = StratifiedKFold(n_splits=3, shuffle = True, random_state=42)\n",
    "\n",
    "\n",
    "grid = GridSearchCV(svm_model, \n",
    "                    param_grid = params,  \n",
    "                    n_jobs = -1, \n",
    "                    cv = skf.split(X_train, y_train),\n",
    "                    scoring='f1')"
   ]
  },
  {
   "cell_type": "code",
   "execution_count": 38,
   "metadata": {
    "colab": {
     "base_uri": "https://localhost:8080/"
    },
    "id": "5zHD-6tulLNX",
    "outputId": "cb82db31-13e8-4ef7-83e7-9917dd40a166"
   },
   "outputs": [
    {
     "data": {
      "text/plain": [
       "{'C': 0.1, 'probability': True}"
      ]
     },
     "execution_count": 38,
     "metadata": {
      "tags": []
     },
     "output_type": "execute_result"
    }
   ],
   "source": [
    "grid.fit(X_train, y_train)\n",
    "best_params = grid.best_params_\n",
    "best_params"
   ]
  },
  {
   "cell_type": "code",
   "execution_count": 39,
   "metadata": {
    "colab": {
     "base_uri": "https://localhost:8080/"
    },
    "id": "yO7Qd9PrlLNZ",
    "outputId": "f912f288-218e-4b2c-d084-08b8ec63874e"
   },
   "outputs": [
    {
     "data": {
      "text/plain": [
       "SVC(C=0.1, break_ties=False, cache_size=200, class_weight='balanced', coef0=0.0,\n",
       "    decision_function_shape='ovr', degree=3, gamma='scale', kernel='sigmoid',\n",
       "    max_iter=-1, probability=True, random_state=None, shrinking=True, tol=0.001,\n",
       "    verbose=False)"
      ]
     },
     "execution_count": 39,
     "metadata": {
      "tags": []
     },
     "output_type": "execute_result"
    }
   ],
   "source": [
    "svm = SVC(kernel='sigmoid', \n",
    "          class_weight='balanced',\n",
    "          C=0.1,\n",
    "          probability=True)\n",
    "\n",
    "svm.fit(X_train, y_train)"
   ]
  },
  {
   "cell_type": "code",
   "execution_count": 40,
   "metadata": {
    "id": "O7S2DDhIlLNc"
   },
   "outputs": [],
   "source": [
    "y_pred = svm.predict(X_test)"
   ]
  },
  {
   "cell_type": "code",
   "execution_count": 41,
   "metadata": {
    "colab": {
     "base_uri": "https://localhost:8080/"
    },
    "id": "Y1TAqcIJlLNf",
    "outputId": "568971e6-3726-47e4-ccf9-6f80ae955484"
   },
   "outputs": [
    {
     "name": "stdout",
     "output_type": "stream",
     "text": [
      "              precision    recall  f1-score   support\n",
      "\n",
      "           0       0.91      0.98      0.94      1128\n",
      "           1       0.53      0.20      0.29       141\n",
      "\n",
      "    accuracy                           0.89      1269\n",
      "   macro avg       0.72      0.59      0.61      1269\n",
      "weighted avg       0.86      0.89      0.87      1269\n",
      "\n"
     ]
    }
   ],
   "source": [
    "print(classification_report(y_test, y_pred))"
   ]
  },
  {
   "cell_type": "markdown",
   "metadata": {
    "id": "Xd8IbAoIlLNi"
   },
   "source": [
    "## Radial basis function (RBF) kernel"
   ]
  },
  {
   "cell_type": "code",
   "execution_count": 42,
   "metadata": {
    "id": "bbQZYOmzlLNj"
   },
   "outputs": [],
   "source": [
    "svm_model = SVC(kernel='rbf', class_weight='balanced')\n",
    "\n",
    "params = {\n",
    "            'C': np.arange(0.01, 10, 0.5),\n",
    "            'probability': [True, False]\n",
    "         }\n",
    "\n",
    "skf = StratifiedKFold(n_splits=3, shuffle = True, random_state=42)\n",
    "\n",
    "\n",
    "grid = GridSearchCV(svm_model, \n",
    "                    param_grid = params,  \n",
    "                    n_jobs = -1, \n",
    "                    cv = skf.split(X_train, y_train),\n",
    "                    scoring='f1')"
   ]
  },
  {
   "cell_type": "code",
   "execution_count": 43,
   "metadata": {
    "colab": {
     "base_uri": "https://localhost:8080/"
    },
    "id": "kI2NRRs9lLNm",
    "outputId": "52528463-2ae4-4a46-f536-5901d34a0942"
   },
   "outputs": [
    {
     "data": {
      "text/plain": [
       "{'C': 0.01, 'probability': True}"
      ]
     },
     "execution_count": 43,
     "metadata": {
      "tags": []
     },
     "output_type": "execute_result"
    }
   ],
   "source": [
    "grid.fit(X_train, y_train)\n",
    "best_params = grid.best_params_\n",
    "best_params"
   ]
  },
  {
   "cell_type": "code",
   "execution_count": 44,
   "metadata": {
    "colab": {
     "base_uri": "https://localhost:8080/"
    },
    "id": "Y21V_Q5FlLNq",
    "outputId": "89fdf99a-ddcb-46f8-f2de-6c44b97b78c8"
   },
   "outputs": [
    {
     "data": {
      "text/plain": [
       "SVC(C=0.01, break_ties=False, cache_size=200, class_weight='balanced',\n",
       "    coef0=0.0, decision_function_shape='ovr', degree=3, gamma='scale',\n",
       "    kernel='rbf', max_iter=-1, probability=True, random_state=None,\n",
       "    shrinking=True, tol=0.001, verbose=False)"
      ]
     },
     "execution_count": 44,
     "metadata": {
      "tags": []
     },
     "output_type": "execute_result"
    }
   ],
   "source": [
    "svm = SVC(kernel='rbf', \n",
    "          class_weight='balanced',\n",
    "          C=0.01,\n",
    "          probability=True)\n",
    "\n",
    "svm.fit(X_train, y_train)"
   ]
  },
  {
   "cell_type": "code",
   "execution_count": 46,
   "metadata": {
    "id": "9nobGQbspW08"
   },
   "outputs": [],
   "source": [
    "y_pred = svm.predict(X_test)"
   ]
  },
  {
   "cell_type": "code",
   "execution_count": 47,
   "metadata": {
    "colab": {
     "base_uri": "https://localhost:8080/"
    },
    "id": "rSH8hArWlLNs",
    "outputId": "0d0cb639-85cd-4cf9-bf03-934b5172dff2"
   },
   "outputs": [
    {
     "name": "stdout",
     "output_type": "stream",
     "text": [
      "              precision    recall  f1-score   support\n",
      "\n",
      "           0       0.91      0.98      0.94      1128\n",
      "           1       0.53      0.20      0.29       141\n",
      "\n",
      "    accuracy                           0.89      1269\n",
      "   macro avg       0.72      0.59      0.61      1269\n",
      "weighted avg       0.86      0.89      0.87      1269\n",
      "\n"
     ]
    }
   ],
   "source": [
    "print(classification_report(y_test, y_pred))"
   ]
  },
  {
   "cell_type": "code",
   "execution_count": null,
   "metadata": {
    "id": "X4JbT4BmpTYB"
   },
   "outputs": [],
   "source": []
  }
 ],
 "metadata": {
  "colab": {
   "collapsed_sections": [],
   "name": "SVM.ipynb",
   "provenance": []
  },
  "kernelspec": {
   "display_name": "Python 3",
   "language": "python",
   "name": "python3"
  },
  "language_info": {
   "codemirror_mode": {
    "name": "ipython",
    "version": 3
   },
   "file_extension": ".py",
   "mimetype": "text/x-python",
   "name": "python",
   "nbconvert_exporter": "python",
   "pygments_lexer": "ipython3",
   "version": "3.7.9"
  },
  "varInspector": {
   "cols": {
    "lenName": 16,
    "lenType": 16,
    "lenVar": 40
   },
   "kernels_config": {
    "python": {
     "delete_cmd_postfix": "",
     "delete_cmd_prefix": "del ",
     "library": "var_list.py",
     "varRefreshCmd": "print(var_dic_list())"
    },
    "r": {
     "delete_cmd_postfix": ") ",
     "delete_cmd_prefix": "rm(",
     "library": "var_list.r",
     "varRefreshCmd": "cat(var_dic_list()) "
    }
   },
   "types_to_exclude": [
    "module",
    "function",
    "builtin_function_or_method",
    "instance",
    "_Feature"
   ],
   "window_display": true
  }
 },
 "nbformat": 4,
 "nbformat_minor": 1
}
